{
 "cells": [
  {
   "cell_type": "markdown",
   "id": "94773594-428b-4d1a-9693-1fe55f1f9546",
   "metadata": {},
   "source": [
    "### Import libraries"
   ]
  },
  {
   "cell_type": "code",
   "execution_count": 1,
   "id": "14bb4bf2-de76-4c3e-9272-314bfcb3a135",
   "metadata": {},
   "outputs": [],
   "source": [
    "import os\n",
    "import sys\n",
    "import pandas as pd\n",
    "import datetime\n",
    "import numpy as np\n",
    "import warnings\n",
    "warnings.filterwarnings('ignore') \n",
    "#import xlsxwriter\n",
    "import seaborn as sns\n",
    "import matplotlib.pyplot as plt\n",
    "from datetime import datetime\n",
    "from dateutil.relativedelta import relativedelta\n"
   ]
  },
  {
   "cell_type": "code",
   "execution_count": 3,
   "id": "f7eced37-f88b-4f7b-97ed-4189a98434e5",
   "metadata": {},
   "outputs": [],
   "source": [
    "import pandas_gbq"
   ]
  },
  {
   "cell_type": "code",
   "execution_count": 21,
   "id": "c867e920-c6a8-4d15-9c08-8bb301e0b297",
   "metadata": {},
   "outputs": [],
   "source": [
    "# query_bq=\"SELECT distinct display_name FROM `data-team-318806.books_db.books`\""
   ]
  },
  {
   "cell_type": "code",
   "execution_count": 33,
   "id": "58131d7d-f5a9-4887-bec7-eee589815348",
   "metadata": {},
   "outputs": [],
   "source": [
    "query_bq=\"SELECT display_name \\\n",
    ",SPLIT(display_name, ' ')[OFFSET(0)] AS counterparty \\\n",
    ",SPLIT(display_name, ' ')[OFFSET(1)] AS country \\\n",
    ",SPLIT(display_name, ' ')[OFFSET(2)] AS month_text \\\n",
    ",SPLIT(display_name, ' ')[OFFSET(3)] AS year \\\n",
    ",current_balance \\\n",
    ",phone_flag \\\n",
    ",phone_val \\\n",
    ",email_flag \\\n",
    ",email_val \\\n",
    ",dpd \\\n",
    ",dca_placement \\\n",
    ", paid_last_12_months \\\n",
    ",ak_id \\\n",
    "FROM `data-team-318806.books_db.books` \\\n",
    "where 1=1 \\\n",
    "and lower(display_name) like '%moneyspot%' \\\n",
    "and lower(display_name) like '%au%' \\\n",
    "and lower(display_name) not like '%backbook%'\""
   ]
  },
  {
   "cell_type": "code",
   "execution_count": 35,
   "id": "1965cbed-b490-4378-867f-575680f62d06",
   "metadata": {},
   "outputs": [
    {
     "name": "stdout",
     "output_type": "stream",
     "text": [
      "Downloading: 100%|\u001b[32m████████████████████████████████████████████████████████████████████████████████████████████████████\u001b[0m|\u001b[0m\n"
     ]
    }
   ],
   "source": [
    "df = pandas_gbq.read_gbq(query_bq\n",
    "                        ,project_id=\"data-team-318806\")\n"
   ]
  },
  {
   "cell_type": "code",
   "execution_count": 69,
   "id": "d3185d84-2212-49fc-baf5-ed825e2e0778",
   "metadata": {},
   "outputs": [
    {
     "data": {
      "text/html": [
       "<div>\n",
       "<style scoped>\n",
       "    .dataframe tbody tr th:only-of-type {\n",
       "        vertical-align: middle;\n",
       "    }\n",
       "\n",
       "    .dataframe tbody tr th {\n",
       "        vertical-align: top;\n",
       "    }\n",
       "\n",
       "    .dataframe thead th {\n",
       "        text-align: right;\n",
       "    }\n",
       "</style>\n",
       "<table border=\"1\" class=\"dataframe\">\n",
       "  <thead>\n",
       "    <tr style=\"text-align: right;\">\n",
       "      <th></th>\n",
       "      <th>display_name</th>\n",
       "      <th>counterparty</th>\n",
       "      <th>country</th>\n",
       "      <th>month_text</th>\n",
       "      <th>year</th>\n",
       "      <th>current_balance</th>\n",
       "      <th>phone_flag</th>\n",
       "      <th>phone_val</th>\n",
       "      <th>email_flag</th>\n",
       "      <th>email_val</th>\n",
       "      <th>dpd</th>\n",
       "      <th>dca_placement</th>\n",
       "      <th>paid_last_12_months</th>\n",
       "      <th>ak_id</th>\n",
       "      <th>month_number</th>\n",
       "      <th>yearmonth</th>\n",
       "    </tr>\n",
       "  </thead>\n",
       "  <tbody>\n",
       "    <tr>\n",
       "      <th>50699</th>\n",
       "      <td>MoneySpot AU June 2023</td>\n",
       "      <td>MoneySpot</td>\n",
       "      <td>AU</td>\n",
       "      <td>June</td>\n",
       "      <td>2023</td>\n",
       "      <td>805.01</td>\n",
       "      <td>1</td>\n",
       "      <td>1</td>\n",
       "      <td>1</td>\n",
       "      <td>1</td>\n",
       "      <td>49</td>\n",
       "      <td>0</td>\n",
       "      <td>1</td>\n",
       "      <td>b46b9abb-666c-48d1-807d-b2114d4b68c8</td>\n",
       "      <td>6</td>\n",
       "      <td>202306</td>\n",
       "    </tr>\n",
       "    <tr>\n",
       "      <th>50700</th>\n",
       "      <td>MoneySpot AU June 2023</td>\n",
       "      <td>MoneySpot</td>\n",
       "      <td>AU</td>\n",
       "      <td>June</td>\n",
       "      <td>2023</td>\n",
       "      <td>690.00</td>\n",
       "      <td>1</td>\n",
       "      <td>1</td>\n",
       "      <td>1</td>\n",
       "      <td>1</td>\n",
       "      <td>37</td>\n",
       "      <td>0</td>\n",
       "      <td>1</td>\n",
       "      <td>8ef6800e-a1f1-4d9a-87ee-f22cfadbb139</td>\n",
       "      <td>6</td>\n",
       "      <td>202306</td>\n",
       "    </tr>\n",
       "    <tr>\n",
       "      <th>50701</th>\n",
       "      <td>MoneySpot AU June 2023</td>\n",
       "      <td>MoneySpot</td>\n",
       "      <td>AU</td>\n",
       "      <td>June</td>\n",
       "      <td>2023</td>\n",
       "      <td>373.00</td>\n",
       "      <td>1</td>\n",
       "      <td>1</td>\n",
       "      <td>1</td>\n",
       "      <td>1</td>\n",
       "      <td>34</td>\n",
       "      <td>0</td>\n",
       "      <td>1</td>\n",
       "      <td>7a5048b2-2f8d-4645-8007-24fc5943910c</td>\n",
       "      <td>6</td>\n",
       "      <td>202306</td>\n",
       "    </tr>\n",
       "    <tr>\n",
       "      <th>50702</th>\n",
       "      <td>MoneySpot AU June 2023</td>\n",
       "      <td>MoneySpot</td>\n",
       "      <td>AU</td>\n",
       "      <td>June</td>\n",
       "      <td>2023</td>\n",
       "      <td>2782.57</td>\n",
       "      <td>1</td>\n",
       "      <td>1</td>\n",
       "      <td>1</td>\n",
       "      <td>1</td>\n",
       "      <td>44</td>\n",
       "      <td>0</td>\n",
       "      <td>1</td>\n",
       "      <td>f7696304-2d00-4a0f-a68d-f93bbec8ba79</td>\n",
       "      <td>6</td>\n",
       "      <td>202306</td>\n",
       "    </tr>\n",
       "    <tr>\n",
       "      <th>50703</th>\n",
       "      <td>MoneySpot AU June 2023</td>\n",
       "      <td>MoneySpot</td>\n",
       "      <td>AU</td>\n",
       "      <td>June</td>\n",
       "      <td>2023</td>\n",
       "      <td>857.00</td>\n",
       "      <td>1</td>\n",
       "      <td>1</td>\n",
       "      <td>1</td>\n",
       "      <td>1</td>\n",
       "      <td>50</td>\n",
       "      <td>0</td>\n",
       "      <td>1</td>\n",
       "      <td>95f23e44-75b0-4222-af6e-90d5569c077c</td>\n",
       "      <td>6</td>\n",
       "      <td>202306</td>\n",
       "    </tr>\n",
       "  </tbody>\n",
       "</table>\n",
       "</div>"
      ],
      "text/plain": [
       "                 display_name counterparty country month_text  year  \\\n",
       "50699  MoneySpot AU June 2023    MoneySpot      AU       June  2023   \n",
       "50700  MoneySpot AU June 2023    MoneySpot      AU       June  2023   \n",
       "50701  MoneySpot AU June 2023    MoneySpot      AU       June  2023   \n",
       "50702  MoneySpot AU June 2023    MoneySpot      AU       June  2023   \n",
       "50703  MoneySpot AU June 2023    MoneySpot      AU       June  2023   \n",
       "\n",
       "       current_balance  phone_flag  phone_val  email_flag  email_val  dpd  \\\n",
       "50699           805.01           1          1           1          1   49   \n",
       "50700           690.00           1          1           1          1   37   \n",
       "50701           373.00           1          1           1          1   34   \n",
       "50702          2782.57           1          1           1          1   44   \n",
       "50703           857.00           1          1           1          1   50   \n",
       "\n",
       "       dca_placement  paid_last_12_months  \\\n",
       "50699              0                    1   \n",
       "50700              0                    1   \n",
       "50701              0                    1   \n",
       "50702              0                    1   \n",
       "50703              0                    1   \n",
       "\n",
       "                                      ak_id  month_number  yearmonth  \n",
       "50699  b46b9abb-666c-48d1-807d-b2114d4b68c8             6     202306  \n",
       "50700  8ef6800e-a1f1-4d9a-87ee-f22cfadbb139             6     202306  \n",
       "50701  7a5048b2-2f8d-4645-8007-24fc5943910c             6     202306  \n",
       "50702  f7696304-2d00-4a0f-a68d-f93bbec8ba79             6     202306  \n",
       "50703  95f23e44-75b0-4222-af6e-90d5569c077c             6     202306  "
      ]
     },
     "execution_count": 69,
     "metadata": {},
     "output_type": "execute_result"
    }
   ],
   "source": [
    "df.tail()"
   ]
  },
  {
   "cell_type": "code",
   "execution_count": 45,
   "id": "14b39339-15ce-4032-9746-f2ea2d2375e1",
   "metadata": {},
   "outputs": [
    {
     "data": {
      "text/plain": [
       "(50704, 15)"
      ]
     },
     "execution_count": 45,
     "metadata": {},
     "output_type": "execute_result"
    }
   ],
   "source": [
    "df.shape"
   ]
  },
  {
   "cell_type": "code",
   "execution_count": 53,
   "id": "a6eefe9a-e9ac-4af5-9011-d771b8d77714",
   "metadata": {},
   "outputs": [],
   "source": [
    "month_mapping = {\n",
    "    'Jan': 1, 'Feb': 2, 'Mar': 3, 'Apr': 4, 'May': 5, 'Jun': 6, 'June':6,\n",
    "    'Jul': 7, 'Aug': 8, 'Sep': 9, 'Oct': 10, 'Nov': 11, 'Dec': 12\n",
    "}"
   ]
  },
  {
   "cell_type": "code",
   "execution_count": 55,
   "id": "20ac7624-8941-4f3e-a8c3-ef83b62e2fd6",
   "metadata": {},
   "outputs": [],
   "source": [
    "df['month_number'] = df['month_text'].map(month_mapping)"
   ]
  },
  {
   "cell_type": "code",
   "execution_count": 113,
   "id": "15791e59-8959-4305-8e5e-07788bd935d9",
   "metadata": {},
   "outputs": [],
   "source": [
    "df['month_number']=df['month_number'].astype(int)"
   ]
  },
  {
   "cell_type": "code",
   "execution_count": 117,
   "id": "2335e392-c070-44a3-8794-193883ca2907",
   "metadata": {},
   "outputs": [],
   "source": [
    "df['year']=df['year'].astype(int)"
   ]
  },
  {
   "cell_type": "code",
   "execution_count": 119,
   "id": "71d7b8d2-119a-408e-9903-ae012fcded4c",
   "metadata": {},
   "outputs": [],
   "source": [
    "df['yearmonth']=df['year'].astype(int)*100+df['month_number'].astype(int)"
   ]
  },
  {
   "cell_type": "code",
   "execution_count": 129,
   "id": "e5a935b5-5b18-4624-b548-d88f77722cb0",
   "metadata": {},
   "outputs": [
    {
     "data": {
      "text/plain": [
       "array([2023, 2024, 2022])"
      ]
     },
     "execution_count": 129,
     "metadata": {},
     "output_type": "execute_result"
    }
   ],
   "source": [
    "df['year'].unique()"
   ]
  },
  {
   "cell_type": "code",
   "execution_count": 153,
   "id": "808dc35c-e79b-46c5-ac3e-794ac3e99e82",
   "metadata": {},
   "outputs": [],
   "source": [
    "df['year_month_date'] = pd.to_datetime(df['year'].astype(str) + '-' + df['month_number'].astype(str) + '-01')"
   ]
  },
  {
   "cell_type": "code",
   "execution_count": 155,
   "id": "2596b078-4dc8-4af0-99c9-92c1768e5cff",
   "metadata": {},
   "outputs": [],
   "source": [
    "\n",
    "# df['yearmonth_v1'] = pd.to_datetime(df.assign(day=1).loc[:, ['year', 'month_number', 'day']])"
   ]
  },
  {
   "cell_type": "code",
   "execution_count": 157,
   "id": "bf44ee2d-2b8a-4196-9978-c95e2c82ab20",
   "metadata": {},
   "outputs": [
    {
     "data": {
      "text/html": [
       "<div>\n",
       "<style scoped>\n",
       "    .dataframe tbody tr th:only-of-type {\n",
       "        vertical-align: middle;\n",
       "    }\n",
       "\n",
       "    .dataframe tbody tr th {\n",
       "        vertical-align: top;\n",
       "    }\n",
       "\n",
       "    .dataframe thead th {\n",
       "        text-align: right;\n",
       "    }\n",
       "</style>\n",
       "<table border=\"1\" class=\"dataframe\">\n",
       "  <thead>\n",
       "    <tr style=\"text-align: right;\">\n",
       "      <th></th>\n",
       "      <th>display_name</th>\n",
       "      <th>counterparty</th>\n",
       "      <th>country</th>\n",
       "      <th>month_text</th>\n",
       "      <th>year</th>\n",
       "      <th>current_balance</th>\n",
       "      <th>phone_flag</th>\n",
       "      <th>phone_val</th>\n",
       "      <th>email_flag</th>\n",
       "      <th>email_val</th>\n",
       "      <th>dpd</th>\n",
       "      <th>dca_placement</th>\n",
       "      <th>paid_last_12_months</th>\n",
       "      <th>ak_id</th>\n",
       "      <th>month_number</th>\n",
       "      <th>yearmonth</th>\n",
       "      <th>yearmonth_v1</th>\n",
       "      <th>year_month_date</th>\n",
       "    </tr>\n",
       "  </thead>\n",
       "  <tbody>\n",
       "    <tr>\n",
       "      <th>0</th>\n",
       "      <td>MoneySpot AU Apr 2023</td>\n",
       "      <td>MoneySpot</td>\n",
       "      <td>AU</td>\n",
       "      <td>Apr</td>\n",
       "      <td>2023</td>\n",
       "      <td>2819.89</td>\n",
       "      <td>1</td>\n",
       "      <td>1</td>\n",
       "      <td>1</td>\n",
       "      <td>0</td>\n",
       "      <td>50</td>\n",
       "      <td>0</td>\n",
       "      <td>1</td>\n",
       "      <td>1227c565-a767-44bd-955a-0ffcbb090c23</td>\n",
       "      <td>4</td>\n",
       "      <td>202304</td>\n",
       "      <td>2023-04-01</td>\n",
       "      <td>2023-04-01</td>\n",
       "    </tr>\n",
       "    <tr>\n",
       "      <th>1</th>\n",
       "      <td>MoneySpot AU Apr 2023</td>\n",
       "      <td>MoneySpot</td>\n",
       "      <td>AU</td>\n",
       "      <td>Apr</td>\n",
       "      <td>2023</td>\n",
       "      <td>915.00</td>\n",
       "      <td>1</td>\n",
       "      <td>1</td>\n",
       "      <td>1</td>\n",
       "      <td>1</td>\n",
       "      <td>92</td>\n",
       "      <td>0</td>\n",
       "      <td>1</td>\n",
       "      <td>58327769-1a90-4f10-bb41-c1c1397805e7</td>\n",
       "      <td>4</td>\n",
       "      <td>202304</td>\n",
       "      <td>2023-04-01</td>\n",
       "      <td>2023-04-01</td>\n",
       "    </tr>\n",
       "    <tr>\n",
       "      <th>2</th>\n",
       "      <td>MoneySpot AU Apr 2023</td>\n",
       "      <td>MoneySpot</td>\n",
       "      <td>AU</td>\n",
       "      <td>Apr</td>\n",
       "      <td>2023</td>\n",
       "      <td>865.00</td>\n",
       "      <td>1</td>\n",
       "      <td>1</td>\n",
       "      <td>1</td>\n",
       "      <td>1</td>\n",
       "      <td>67</td>\n",
       "      <td>0</td>\n",
       "      <td>0</td>\n",
       "      <td>870477f7-6595-4eeb-9358-5daf890a6f23</td>\n",
       "      <td>4</td>\n",
       "      <td>202304</td>\n",
       "      <td>2023-04-01</td>\n",
       "      <td>2023-04-01</td>\n",
       "    </tr>\n",
       "    <tr>\n",
       "      <th>3</th>\n",
       "      <td>MoneySpot AU Apr 2023</td>\n",
       "      <td>MoneySpot</td>\n",
       "      <td>AU</td>\n",
       "      <td>Apr</td>\n",
       "      <td>2023</td>\n",
       "      <td>281.68</td>\n",
       "      <td>1</td>\n",
       "      <td>1</td>\n",
       "      <td>1</td>\n",
       "      <td>1</td>\n",
       "      <td>73</td>\n",
       "      <td>0</td>\n",
       "      <td>1</td>\n",
       "      <td>f210a42d-186b-43a3-9c85-abe7f7f41066</td>\n",
       "      <td>4</td>\n",
       "      <td>202304</td>\n",
       "      <td>2023-04-01</td>\n",
       "      <td>2023-04-01</td>\n",
       "    </tr>\n",
       "    <tr>\n",
       "      <th>4</th>\n",
       "      <td>MoneySpot AU Apr 2023</td>\n",
       "      <td>MoneySpot</td>\n",
       "      <td>AU</td>\n",
       "      <td>Apr</td>\n",
       "      <td>2023</td>\n",
       "      <td>2645.13</td>\n",
       "      <td>1</td>\n",
       "      <td>1</td>\n",
       "      <td>1</td>\n",
       "      <td>1</td>\n",
       "      <td>39</td>\n",
       "      <td>0</td>\n",
       "      <td>1</td>\n",
       "      <td>eacc35bf-8b69-4c7c-bb5d-43afeb524eca</td>\n",
       "      <td>4</td>\n",
       "      <td>202304</td>\n",
       "      <td>2023-04-01</td>\n",
       "      <td>2023-04-01</td>\n",
       "    </tr>\n",
       "  </tbody>\n",
       "</table>\n",
       "</div>"
      ],
      "text/plain": [
       "            display_name counterparty country month_text  year  \\\n",
       "0  MoneySpot AU Apr 2023    MoneySpot      AU        Apr  2023   \n",
       "1  MoneySpot AU Apr 2023    MoneySpot      AU        Apr  2023   \n",
       "2  MoneySpot AU Apr 2023    MoneySpot      AU        Apr  2023   \n",
       "3  MoneySpot AU Apr 2023    MoneySpot      AU        Apr  2023   \n",
       "4  MoneySpot AU Apr 2023    MoneySpot      AU        Apr  2023   \n",
       "\n",
       "   current_balance  phone_flag  phone_val  email_flag  email_val  dpd  \\\n",
       "0          2819.89           1          1           1          0   50   \n",
       "1           915.00           1          1           1          1   92   \n",
       "2           865.00           1          1           1          1   67   \n",
       "3           281.68           1          1           1          1   73   \n",
       "4          2645.13           1          1           1          1   39   \n",
       "\n",
       "   dca_placement  paid_last_12_months                                 ak_id  \\\n",
       "0              0                    1  1227c565-a767-44bd-955a-0ffcbb090c23   \n",
       "1              0                    1  58327769-1a90-4f10-bb41-c1c1397805e7   \n",
       "2              0                    0  870477f7-6595-4eeb-9358-5daf890a6f23   \n",
       "3              0                    1  f210a42d-186b-43a3-9c85-abe7f7f41066   \n",
       "4              0                    1  eacc35bf-8b69-4c7c-bb5d-43afeb524eca   \n",
       "\n",
       "   month_number  yearmonth yearmonth_v1 year_month_date  \n",
       "0             4     202304   2023-04-01      2023-04-01  \n",
       "1             4     202304   2023-04-01      2023-04-01  \n",
       "2             4     202304   2023-04-01      2023-04-01  \n",
       "3             4     202304   2023-04-01      2023-04-01  \n",
       "4             4     202304   2023-04-01      2023-04-01  "
      ]
     },
     "execution_count": 157,
     "metadata": {},
     "output_type": "execute_result"
    }
   ],
   "source": [
    "df.head()"
   ]
  },
  {
   "cell_type": "code",
   "execution_count": 159,
   "id": "3697909c-c9a8-4b8c-b08b-f40d73f61a2c",
   "metadata": {},
   "outputs": [],
   "source": [
    "#####Analysis on current_balance"
   ]
  },
  {
   "cell_type": "code",
   "execution_count": 161,
   "id": "62a14d67-cd43-42b2-8fc1-59c666d298d3",
   "metadata": {},
   "outputs": [],
   "source": [
    "df_cur_balance=df.groupby('year_month_date')[['current_balance']].sum().reset_index().copy()"
   ]
  },
  {
   "cell_type": "code",
   "execution_count": 163,
   "id": "34ca9633-d1c7-4577-92b0-a1a31dbfc5ce",
   "metadata": {},
   "outputs": [
    {
     "data": {
      "text/html": [
       "<div>\n",
       "<style scoped>\n",
       "    .dataframe tbody tr th:only-of-type {\n",
       "        vertical-align: middle;\n",
       "    }\n",
       "\n",
       "    .dataframe tbody tr th {\n",
       "        vertical-align: top;\n",
       "    }\n",
       "\n",
       "    .dataframe thead th {\n",
       "        text-align: right;\n",
       "    }\n",
       "</style>\n",
       "<table border=\"1\" class=\"dataframe\">\n",
       "  <thead>\n",
       "    <tr style=\"text-align: right;\">\n",
       "      <th></th>\n",
       "      <th>year_month_date</th>\n",
       "      <th>current_balance</th>\n",
       "    </tr>\n",
       "  </thead>\n",
       "  <tbody>\n",
       "    <tr>\n",
       "      <th>0</th>\n",
       "      <td>2022-09-01</td>\n",
       "      <td>1654770.80</td>\n",
       "    </tr>\n",
       "    <tr>\n",
       "      <th>1</th>\n",
       "      <td>2022-10-01</td>\n",
       "      <td>1995610.34</td>\n",
       "    </tr>\n",
       "    <tr>\n",
       "      <th>2</th>\n",
       "      <td>2022-11-01</td>\n",
       "      <td>1863655.12</td>\n",
       "    </tr>\n",
       "    <tr>\n",
       "      <th>3</th>\n",
       "      <td>2022-12-01</td>\n",
       "      <td>2402279.62</td>\n",
       "    </tr>\n",
       "    <tr>\n",
       "      <th>4</th>\n",
       "      <td>2023-01-01</td>\n",
       "      <td>2785640.83</td>\n",
       "    </tr>\n",
       "  </tbody>\n",
       "</table>\n",
       "</div>"
      ],
      "text/plain": [
       "  year_month_date  current_balance\n",
       "0      2022-09-01       1654770.80\n",
       "1      2022-10-01       1995610.34\n",
       "2      2022-11-01       1863655.12\n",
       "3      2022-12-01       2402279.62\n",
       "4      2023-01-01       2785640.83"
      ]
     },
     "execution_count": 163,
     "metadata": {},
     "output_type": "execute_result"
    }
   ],
   "source": [
    "df_cur_balance.head()"
   ]
  },
  {
   "cell_type": "code",
   "execution_count": 165,
   "id": "a942c5bc-7b8c-4350-91e1-ed1194cd0eab",
   "metadata": {},
   "outputs": [
    {
     "data": {
      "text/plain": [
       "(24, 2)"
      ]
     },
     "execution_count": 165,
     "metadata": {},
     "output_type": "execute_result"
    }
   ],
   "source": [
    "df_cur_balance.shape"
   ]
  },
  {
   "cell_type": "code",
   "execution_count": 196,
   "id": "e8a367c7-3b09-412b-94ea-0c8a56ece1da",
   "metadata": {},
   "outputs": [
    {
     "data": {
      "image/png": "[encoded data removed]",
      "text/plain": [
       "<Figure size 1000x600 with 1 Axes>"
      ]
     },
     "metadata": {},
     "output_type": "display_data"
    }
   ],
   "source": [
    "plt.figure(figsize=(10, 6))  # Make the figure wider\n",
    "plt.scatter(df_cur_balance['year_month_date'], df_cur_balance['current_balance'], color='blue')\n",
    "\n",
    "# Add labels and title\n",
    "plt.xlabel('YearMonth')\n",
    "plt.ylabel('USD')\n",
    "plt.title('Current Balance')\n",
    "\n",
    "# Rotate x-axis labels for better readability (optional)\n",
    "\n",
    "x_labels = df_cur_balance['year_month_date'].dt.strftime('%Y-%m-%d')  # Format as string\n",
    "short_x_labels = x_labels.str.slice(0, 7)  # Get the first 6 letters\n",
    "\n",
    "plt.xticks(df_cur_balance['year_month_date'], short_x_labels, rotation=45)\n",
    "\n",
    "\n",
    "# Annotate each point with its y-value (current_balance)\n",
    "for i, value in enumerate(df_cur_balance['current_balance']):\n",
    "    plt.text(df_cur_balance['year_month_date'][i], df_cur_balance['current_balance'][i], \n",
    "             f'{value:,.0f}', ha='center', va='bottom', fontsize=9)\n",
    "\n",
    "# Show plot\n",
    "plt.tight_layout()  # To make sure labels are not cut off\n",
    "plt.show()"
   ]
  },
  {
   "cell_type": "code",
   "execution_count": 198,
   "id": "f0140790-c22f-4622-84d3-3cfa5cc6a6ad",
   "metadata": {},
   "outputs": [],
   "source": [
    "###without normalization, no trend, or seasonality"
   ]
  },
  {
   "cell_type": "code",
   "execution_count": null,
   "id": "dd79343c-34c2-49f4-8736-126b20467294",
   "metadata": {},
   "outputs": [],
   "source": [
    "#### Average Balance"
   ]
  },
  {
   "cell_type": "code",
   "execution_count": 202,
   "id": "2bd53a75-b274-4301-8407-cc5f82f14b9f",
   "metadata": {},
   "outputs": [],
   "source": [
    "df_cur_balance_avg=df.groupby('year_month_date')[['current_balance']].mean().reset_index().copy()"
   ]
  },
  {
   "cell_type": "code",
   "execution_count": 204,
   "id": "b5103f31-96da-49e7-a16d-c46a47042667",
   "metadata": {},
   "outputs": [
    {
     "data": {
      "image/png": "[encoded data removed]",
      "text/plain": [
       "<Figure size 1000x600 with 1 Axes>"
      ]
     },
     "metadata": {},
     "output_type": "display_data"
    }
   ],
   "source": [
    "plt.figure(figsize=(10, 6))  # Make the figure wider\n",
    "plt.scatter(df_cur_balance_avg['year_month_date'], df_cur_balance_avg['current_balance'], color='green')\n",
    "\n",
    "# Add labels and title\n",
    "plt.xlabel('YearMonth')\n",
    "plt.ylabel('USD')\n",
    "plt.title('Average Balance')\n",
    "\n",
    "# Rotate x-axis labels for better readability (optional)\n",
    "\n",
    "x_labels = df_cur_balance_avg['year_month_date'].dt.strftime('%Y-%m-%d')  # Format as string\n",
    "short_x_labels = x_labels.str.slice(0, 7)  # Get the first 6 letters\n",
    "\n",
    "plt.xticks(df_cur_balance_avg['year_month_date'], short_x_labels, rotation=45)\n",
    "\n",
    "\n",
    "# Annotate each point with its y-value (current_balance)\n",
    "for i, value in enumerate(df_cur_balance_avg['current_balance']):\n",
    "    plt.text(df_cur_balance_avg['year_month_date'][i], df_cur_balance_avg['current_balance'][i], \n",
    "             f'{value:,.0f}', ha='center', va='bottom', fontsize=9)\n",
    "\n",
    "# Show plot\n",
    "plt.tight_layout()  # To make sure labels are not cut off\n",
    "plt.show()"
   ]
  },
  {
   "cell_type": "code",
   "execution_count": null,
   "id": "d77fb916-3453-485a-b60e-37bbaea21e94",
   "metadata": {},
   "outputs": [],
   "source": []
  }
 ],
 "metadata": {
  "kernelspec": {
   "display_name": "Python 3 (ipykernel)",
   "language": "python",
   "name": "python3"
  },
  "language_info": {
   "codemirror_mode": {
    "name": "ipython",
    "version": 3
   },
   "file_extension": ".py",
   "mimetype": "text/x-python",
   "name": "python",
   "nbconvert_exporter": "python",
   "pygments_lexer": "ipython3",
   "version": "3.12.4"
  }
 },
 "nbformat": 4,
 "nbformat_minor": 5
}
