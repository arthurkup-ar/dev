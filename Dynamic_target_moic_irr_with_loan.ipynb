{
 "cells": [
  {
   "cell_type": "markdown",
   "id": "b49963d0-813e-4d35-b9e1-80556be2d34c",
   "metadata": {},
   "source": [
    "V1 includes:\n",
    "\n",
    "- For IRR: calculating future IRRs based on targets\n",
    "\n",
    "- For MOIC: adding graph of target and value of Break even (P&I based on 10% a year)"
   ]
  },
  {
   "cell_type": "code",
   "execution_count": 9,
   "id": "9fae4f83-b7b1-482c-b902-daec8c8e9149",
   "metadata": {},
   "outputs": [],
   "source": [
    "import os\n",
    "import sys\n",
    "import pandas as pd\n",
    "import datetime\n",
    "import numpy as np\n",
    "import warnings\n",
    "warnings.filterwarnings('ignore') \n",
    "#import xlsxwriter\n",
    "import seaborn as sns\n",
    "import matplotlib.pyplot as plt\n",
    "from datetime import datetime\n",
    "from dateutil.relativedelta import relativedelta"
   ]
  },
  {
   "cell_type": "code",
   "execution_count": 10,
   "id": "73fb8b2d-005d-4ccf-ae14-1d6cbbd2e056",
   "metadata": {},
   "outputs": [],
   "source": [
    "import pandas_gbq\n",
    "import numpy_financial as npf"
   ]
  },
  {
   "cell_type": "markdown",
   "id": "8a53ec97-bae8-445a-85bc-d72e184d09b9",
   "metadata": {},
   "source": [
    "## Variable for all books"
   ]
  },
  {
   "cell_type": "code",
   "execution_count": 117,
   "id": "fa14b866-7848-4047-b9e0-4491e4c18d4c",
   "metadata": {},
   "outputs": [],
   "source": [
    "annual_interest_rate =0.10\n",
    "factor_ak_loan=0.75"
   ]
  },
  {
   "cell_type": "markdown",
   "id": "6c4d7d00-badb-4dfc-adb3-3fe5a4c15214",
   "metadata": {},
   "source": [
    "## Multitude AU Oct 21"
   ]
  },
  {
   "cell_type": "code",
   "execution_count": 19,
   "id": "8e22baae-0a6f-427b-8264-8934c17fc753",
   "metadata": {},
   "outputs": [],
   "source": [
    "###Manual:\n",
    "book_id='3435712288'"
   ]
  },
  {
   "cell_type": "code",
   "execution_count": 39,
   "id": "61a91746-838e-4d79-bf32-9c742a77bdca",
   "metadata": {},
   "outputs": [],
   "source": [
    "query_purchase='''SELECT book_id,actual_purchase_price,settlement_date,round(actual_purchase_price_usd,2) actual_purchase_price_usd, Region\n",
    "FROM presentation.dim_books db\n",
    "where 1=1\n",
    "and book_id='{}' '''.format(book_id)"
   ]
  },
  {
   "cell_type": "code",
   "execution_count": 41,
   "id": "11e812be-4e47-4925-b19d-68adbc24c49e",
   "metadata": {},
   "outputs": [
    {
     "name": "stdout",
     "output_type": "stream",
     "text": [
      "Downloading: 100%|\u001b[32m████████████████████████████████████████████████████████████████████████████████████████████████████\u001b[0m|\u001b[0m\n"
     ]
    }
   ],
   "source": [
    "df_purch = pandas_gbq.read_gbq(query_purchase,project_id=\"data-team-318806\")"
   ]
  },
  {
   "cell_type": "code",
   "execution_count": 43,
   "id": "7318c4de-1bc1-42e6-9e97-e74f72439c83",
   "metadata": {},
   "outputs": [
    {
     "data": {
      "text/html": [
       "<div>\n",
       "<style scoped>\n",
       "    .dataframe tbody tr th:only-of-type {\n",
       "        vertical-align: middle;\n",
       "    }\n",
       "\n",
       "    .dataframe tbody tr th {\n",
       "        vertical-align: top;\n",
       "    }\n",
       "\n",
       "    .dataframe thead th {\n",
       "        text-align: right;\n",
       "    }\n",
       "</style>\n",
       "<table border=\"1\" class=\"dataframe\">\n",
       "  <thead>\n",
       "    <tr style=\"text-align: right;\">\n",
       "      <th></th>\n",
       "      <th>book_id</th>\n",
       "      <th>actual_purchase_price</th>\n",
       "      <th>settlement_date</th>\n",
       "      <th>actual_purchase_price_usd</th>\n",
       "      <th>Region</th>\n",
       "    </tr>\n",
       "  </thead>\n",
       "  <tbody>\n",
       "    <tr>\n",
       "      <th>0</th>\n",
       "      <td>3435712288</td>\n",
       "      <td>659683.0</td>\n",
       "      <td>2021-10-20</td>\n",
       "      <td>495759.97</td>\n",
       "      <td>AU</td>\n",
       "    </tr>\n",
       "  </tbody>\n",
       "</table>\n",
       "</div>"
      ],
      "text/plain": [
       "      book_id  actual_purchase_price settlement_date  \\\n",
       "0  3435712288               659683.0      2021-10-20   \n",
       "\n",
       "   actual_purchase_price_usd Region  \n",
       "0                  495759.97     AU  "
      ]
     },
     "execution_count": 43,
     "metadata": {},
     "output_type": "execute_result"
    }
   ],
   "source": [
    "df_purch"
   ]
  },
  {
   "cell_type": "code",
   "execution_count": 75,
   "id": "ef66412c-b071-4dc6-b0b9-21869001e9e2",
   "metadata": {},
   "outputs": [],
   "source": [
    "query_cf='''SELECT book_id,book_name,month_cohort,calendary_month, calendary_year\n",
    ",round(sum(actual_amount),2) actual_amount,round(sum(actual_amount_usd),2) actual_amount_usd\n",
    ",round(sum(target_prediction_amount),2)target_prediction_amount  ,round(sum(target_prediction_amount_usd),2) target_prediction_amount_usd\n",
    "FROM presentation.fact_performance_matrics\n",
    "where 1=1\n",
    "and book_id='{}'\n",
    "group by all\n",
    "having month_cohort is not null and actual_amount is not null\n",
    "order by month_cohort'''.format(book_id)"
   ]
  },
  {
   "cell_type": "code",
   "execution_count": 77,
   "id": "d2723816-385f-4ca7-b020-4045fdae86b5",
   "metadata": {},
   "outputs": [
    {
     "name": "stdout",
     "output_type": "stream",
     "text": [
      "Downloading: 100%|\u001b[32m████████████████████████████████████████████████████████████████████████████████████████████████████\u001b[0m|\u001b[0m\n"
     ]
    }
   ],
   "source": [
    "df_cf=pandas_gbq.read_gbq(query_cf,project_id=\"data-team-318806\")"
   ]
  },
  {
   "cell_type": "code",
   "execution_count": 95,
   "id": "7da6f39a-d3af-41ca-b5bb-1064c73cfd43",
   "metadata": {},
   "outputs": [
    {
     "data": {
      "text/html": [
       "<div>\n",
       "<style scoped>\n",
       "    .dataframe tbody tr th:only-of-type {\n",
       "        vertical-align: middle;\n",
       "    }\n",
       "\n",
       "    .dataframe tbody tr th {\n",
       "        vertical-align: top;\n",
       "    }\n",
       "\n",
       "    .dataframe thead th {\n",
       "        text-align: right;\n",
       "    }\n",
       "</style>\n",
       "<table border=\"1\" class=\"dataframe\">\n",
       "  <thead>\n",
       "    <tr style=\"text-align: right;\">\n",
       "      <th></th>\n",
       "      <th>book_id</th>\n",
       "      <th>book_name</th>\n",
       "      <th>month_cohort</th>\n",
       "      <th>calendary_month</th>\n",
       "      <th>calendary_year</th>\n",
       "      <th>actual_amount</th>\n",
       "      <th>actual_amount_usd</th>\n",
       "      <th>target_prediction_amount</th>\n",
       "      <th>target_prediction_amount_usd</th>\n",
       "      <th>moic</th>\n",
       "    </tr>\n",
       "  </thead>\n",
       "  <tbody>\n",
       "    <tr>\n",
       "      <th>0</th>\n",
       "      <td>3435712288</td>\n",
       "      <td>Multitude AU Oct 21</td>\n",
       "      <td>1</td>\n",
       "      <td>11</td>\n",
       "      <td>2021</td>\n",
       "      <td>432210.25</td>\n",
       "      <td>325022.17</td>\n",
       "      <td>28090.08</td>\n",
       "      <td>21123.75</td>\n",
       "      <td>0.66</td>\n",
       "    </tr>\n",
       "    <tr>\n",
       "      <th>1</th>\n",
       "      <td>3435712288</td>\n",
       "      <td>Multitude AU Oct 21</td>\n",
       "      <td>2</td>\n",
       "      <td>12</td>\n",
       "      <td>2021</td>\n",
       "      <td>155443.49</td>\n",
       "      <td>110495.48</td>\n",
       "      <td>28151.71</td>\n",
       "      <td>20011.37</td>\n",
       "      <td>0.89</td>\n",
       "    </tr>\n",
       "    <tr>\n",
       "      <th>2</th>\n",
       "      <td>3435712288</td>\n",
       "      <td>Multitude AU Oct 21</td>\n",
       "      <td>3</td>\n",
       "      <td>1</td>\n",
       "      <td>2022</td>\n",
       "      <td>193742.23</td>\n",
       "      <td>140821.51</td>\n",
       "      <td>28356.57</td>\n",
       "      <td>20610.97</td>\n",
       "      <td>1.18</td>\n",
       "    </tr>\n",
       "    <tr>\n",
       "      <th>3</th>\n",
       "      <td>3435712288</td>\n",
       "      <td>Multitude AU Oct 21</td>\n",
       "      <td>4</td>\n",
       "      <td>2</td>\n",
       "      <td>2022</td>\n",
       "      <td>121042.02</td>\n",
       "      <td>86341.10</td>\n",
       "      <td>28081.37</td>\n",
       "      <td>20030.86</td>\n",
       "      <td>1.37</td>\n",
       "    </tr>\n",
       "    <tr>\n",
       "      <th>4</th>\n",
       "      <td>3435712288</td>\n",
       "      <td>Multitude AU Oct 21</td>\n",
       "      <td>5</td>\n",
       "      <td>3</td>\n",
       "      <td>2022</td>\n",
       "      <td>115673.38</td>\n",
       "      <td>83955.74</td>\n",
       "      <td>33103.12</td>\n",
       "      <td>24026.24</td>\n",
       "      <td>1.54</td>\n",
       "    </tr>\n",
       "  </tbody>\n",
       "</table>\n",
       "</div>"
      ],
      "text/plain": [
       "      book_id            book_name  month_cohort  calendary_month  \\\n",
       "0  3435712288  Multitude AU Oct 21             1               11   \n",
       "1  3435712288  Multitude AU Oct 21             2               12   \n",
       "2  3435712288  Multitude AU Oct 21             3                1   \n",
       "3  3435712288  Multitude AU Oct 21             4                2   \n",
       "4  3435712288  Multitude AU Oct 21             5                3   \n",
       "\n",
       "   calendary_year  actual_amount  actual_amount_usd  target_prediction_amount  \\\n",
       "0            2021      432210.25          325022.17                  28090.08   \n",
       "1            2021      155443.49          110495.48                  28151.71   \n",
       "2            2022      193742.23          140821.51                  28356.57   \n",
       "3            2022      121042.02           86341.10                  28081.37   \n",
       "4            2022      115673.38           83955.74                  33103.12   \n",
       "\n",
       "   target_prediction_amount_usd  moic  \n",
       "0                      21123.75  0.66  \n",
       "1                      20011.37  0.89  \n",
       "2                      20610.97  1.18  \n",
       "3                      20030.86  1.37  \n",
       "4                      24026.24  1.54  "
      ]
     },
     "execution_count": 95,
     "metadata": {},
     "output_type": "execute_result"
    }
   ],
   "source": [
    "df_cf.head()"
   ]
  },
  {
   "cell_type": "code",
   "execution_count": 97,
   "id": "ffcd4c98-daad-4018-8345-dfcf6e6da795",
   "metadata": {},
   "outputs": [
    {
     "data": {
      "text/html": [
       "<div>\n",
       "<style scoped>\n",
       "    .dataframe tbody tr th:only-of-type {\n",
       "        vertical-align: middle;\n",
       "    }\n",
       "\n",
       "    .dataframe tbody tr th {\n",
       "        vertical-align: top;\n",
       "    }\n",
       "\n",
       "    .dataframe thead th {\n",
       "        text-align: right;\n",
       "    }\n",
       "</style>\n",
       "<table border=\"1\" class=\"dataframe\">\n",
       "  <thead>\n",
       "    <tr style=\"text-align: right;\">\n",
       "      <th></th>\n",
       "      <th>book_id</th>\n",
       "      <th>book_name</th>\n",
       "      <th>month_cohort</th>\n",
       "      <th>calendary_month</th>\n",
       "      <th>calendary_year</th>\n",
       "      <th>actual_amount</th>\n",
       "      <th>actual_amount_usd</th>\n",
       "      <th>target_prediction_amount</th>\n",
       "      <th>target_prediction_amount_usd</th>\n",
       "      <th>moic</th>\n",
       "    </tr>\n",
       "  </thead>\n",
       "  <tbody>\n",
       "    <tr>\n",
       "      <th>30</th>\n",
       "      <td>3435712288</td>\n",
       "      <td>Multitude AU Oct 21</td>\n",
       "      <td>31</td>\n",
       "      <td>5</td>\n",
       "      <td>2024</td>\n",
       "      <td>6662.06</td>\n",
       "      <td>4308.72</td>\n",
       "      <td>20067.43</td>\n",
       "      <td>12978.71</td>\n",
       "      <td>2.89</td>\n",
       "    </tr>\n",
       "    <tr>\n",
       "      <th>31</th>\n",
       "      <td>3435712288</td>\n",
       "      <td>Multitude AU Oct 21</td>\n",
       "      <td>32</td>\n",
       "      <td>6</td>\n",
       "      <td>2024</td>\n",
       "      <td>4888.35</td>\n",
       "      <td>3257.11</td>\n",
       "      <td>18945.22</td>\n",
       "      <td>12623.20</td>\n",
       "      <td>2.90</td>\n",
       "    </tr>\n",
       "    <tr>\n",
       "      <th>32</th>\n",
       "      <td>3435712288</td>\n",
       "      <td>Multitude AU Oct 21</td>\n",
       "      <td>33</td>\n",
       "      <td>7</td>\n",
       "      <td>2024</td>\n",
       "      <td>6604.72</td>\n",
       "      <td>4403.73</td>\n",
       "      <td>20695.64</td>\n",
       "      <td>13798.92</td>\n",
       "      <td>2.91</td>\n",
       "    </tr>\n",
       "    <tr>\n",
       "      <th>33</th>\n",
       "      <td>3435712288</td>\n",
       "      <td>Multitude AU Oct 21</td>\n",
       "      <td>34</td>\n",
       "      <td>8</td>\n",
       "      <td>2024</td>\n",
       "      <td>4401.16</td>\n",
       "      <td>2875.15</td>\n",
       "      <td>16652.31</td>\n",
       "      <td>10878.45</td>\n",
       "      <td>2.91</td>\n",
       "    </tr>\n",
       "    <tr>\n",
       "      <th>34</th>\n",
       "      <td>3435712288</td>\n",
       "      <td>Multitude AU Oct 21</td>\n",
       "      <td>35</td>\n",
       "      <td>9</td>\n",
       "      <td>2024</td>\n",
       "      <td>6326.54</td>\n",
       "      <td>4280.54</td>\n",
       "      <td>16764.44</td>\n",
       "      <td>11342.82</td>\n",
       "      <td>2.92</td>\n",
       "    </tr>\n",
       "  </tbody>\n",
       "</table>\n",
       "</div>"
      ],
      "text/plain": [
       "       book_id            book_name  month_cohort  calendary_month  \\\n",
       "30  3435712288  Multitude AU Oct 21            31                5   \n",
       "31  3435712288  Multitude AU Oct 21            32                6   \n",
       "32  3435712288  Multitude AU Oct 21            33                7   \n",
       "33  3435712288  Multitude AU Oct 21            34                8   \n",
       "34  3435712288  Multitude AU Oct 21            35                9   \n",
       "\n",
       "    calendary_year  actual_amount  actual_amount_usd  \\\n",
       "30            2024        6662.06            4308.72   \n",
       "31            2024        4888.35            3257.11   \n",
       "32            2024        6604.72            4403.73   \n",
       "33            2024        4401.16            2875.15   \n",
       "34            2024        6326.54            4280.54   \n",
       "\n",
       "    target_prediction_amount  target_prediction_amount_usd  moic  \n",
       "30                  20067.43                      12978.71  2.89  \n",
       "31                  18945.22                      12623.20  2.90  \n",
       "32                  20695.64                      13798.92  2.91  \n",
       "33                  16652.31                      10878.45  2.91  \n",
       "34                  16764.44                      11342.82  2.92  "
      ]
     },
     "execution_count": 97,
     "metadata": {},
     "output_type": "execute_result"
    }
   ],
   "source": [
    "df_cf.tail()"
   ]
  },
  {
   "cell_type": "code",
   "execution_count": 83,
   "id": "d33a4986-1307-4b4b-911e-b03341be1d73",
   "metadata": {},
   "outputs": [],
   "source": [
    "book_name=df_cf.iloc[0,1]"
   ]
  },
  {
   "cell_type": "code",
   "execution_count": 85,
   "id": "b2483943-9e0e-445a-866d-533fb695b117",
   "metadata": {},
   "outputs": [],
   "source": [
    "### MOIC Calculation"
   ]
  },
  {
   "cell_type": "code",
   "execution_count": 87,
   "id": "cbaca011-b7ae-4f68-b7cf-0df54e598730",
   "metadata": {},
   "outputs": [],
   "source": [
    "cashflow=df_cf['actual_amount'].tolist()"
   ]
  },
  {
   "cell_type": "code",
   "execution_count": 89,
   "id": "8d67ce43-acf3-4ab7-ae48-92af540bb465",
   "metadata": {},
   "outputs": [],
   "source": [
    "#### Calculating Dynamic MOIC\n",
    "moic_num=0.0\n",
    "moic_temp=0.0\n",
    "moic=[]\n",
    "purchase_value=abs(df_purch.iloc[0,1])\n",
    "selected_values=[]\n",
    "for i in range(0, len(cashflow)):\n",
    "    selected_values.append(cashflow[i])\n",
    "    moic_num = round((sum(selected_values)),2)\n",
    "    moic_temp=round(moic_num/purchase_value,2)\n",
    "    moic.append(moic_temp)\n",
    "    \n",
    "df_cf['moic']=moic "
   ]
  },
  {
   "cell_type": "code",
   "execution_count": 99,
   "id": "10b4acc5-5352-42f7-a00f-224f609951b7",
   "metadata": {},
   "outputs": [],
   "source": [
    "####Adding Value of P&I"
   ]
  },
  {
   "cell_type": "code",
   "execution_count": 103,
   "id": "f86f733e-a733-47df-9de9-564a97d41d3e",
   "metadata": {},
   "outputs": [],
   "source": [
    "price= purchase_value.copy()"
   ]
  },
  {
   "cell_type": "code",
   "execution_count": 131,
   "id": "aa6e4c6d-7127-459e-8b6b-7610922d7bce",
   "metadata": {},
   "outputs": [],
   "source": [
    "monthly_rate = ((1+annual_interest_rate )**(1/12))-1"
   ]
  },
  {
   "cell_type": "code",
   "execution_count": 133,
   "id": "bc2d08e9-daf2-46ad-b369-0a65f951f9a4",
   "metadata": {},
   "outputs": [
    {
     "data": {
      "text/plain": [
       "0.007974140428903764"
      ]
     },
     "execution_count": 133,
     "metadata": {},
     "output_type": "execute_result"
    }
   ],
   "source": [
    "monthly_rate"
   ]
  },
  {
   "cell_type": "code",
   "execution_count": 149,
   "id": "dace9fee-1191-45c5-b15c-f902972b5f8c",
   "metadata": {},
   "outputs": [],
   "source": [
    "monthly_payments = round(df_cf['actual_amount']*factor_ak_loan,2)"
   ]
  },
  {
   "cell_type": "code",
   "execution_count": 151,
   "id": "6d33573b-760a-49be-8d3b-75d3880f31c4",
   "metadata": {},
   "outputs": [],
   "source": [
    "monthly_payments=monthly_payments.tolist()"
   ]
  },
  {
   "cell_type": "code",
   "execution_count": 155,
   "id": "76b5cf39-acf7-4313-8f6a-e664e8aa713b",
   "metadata": {},
   "outputs": [],
   "source": [
    "remaining_balance = price\n",
    "data = []"
   ]
  },
  {
   "cell_type": "code",
   "execution_count": 157,
   "id": "5b97c861-c8d9-4780-9210-9f63f0d3797b",
   "metadata": {},
   "outputs": [],
   "source": [
    "for month, payment in enumerate(monthly_payments, start=1):\n",
    "    interest_payment = remaining_balance * monthly_rate\n",
    "    principal_payment = payment - interest_payment\n",
    "    remaining_balance -= principal_payment\n",
    "    data.append({\n",
    "        \"cohort_month\": month,\n",
    "        \"monthly_payment\": payment,\n",
    "        \"principal_payment\": principal_payment,\n",
    "        \"interest_payment\": interest_payment,\n",
    "        \"remaining_balance\": remaining_balance\n",
    "    })\n",
    "\n",
    "df_loan = pd.DataFrame(data)\n"
   ]
  },
  {
   "cell_type": "code",
   "execution_count": 168,
   "id": "989a1247-0174-4d71-860d-adfcfb298613",
   "metadata": {},
   "outputs": [],
   "source": [
    "first_negative_balance = df_loan[df_loan[\"remaining_balance\"] < 0].iloc[0]"
   ]
  },
  {
   "cell_type": "code",
   "execution_count": 170,
   "id": "ce38c7ce-c620-4362-8ae4-dd2799e2e96f",
   "metadata": {},
   "outputs": [],
   "source": [
    "first_negative_balance_cohort_month = first_negative_balance[\"cohort_month\"]"
   ]
  },
  {
   "cell_type": "code",
   "execution_count": 172,
   "id": "e358da3d-a09f-4694-9703-cf17c650c24b",
   "metadata": {},
   "outputs": [
    {
     "data": {
      "text/plain": [
       "4.0"
      ]
     },
     "execution_count": 172,
     "metadata": {},
     "output_type": "execute_result"
    }
   ],
   "source": [
    "first_negative_balance_cohort_month"
   ]
  },
  {
   "cell_type": "code",
   "execution_count": null,
   "id": "6183d991-6a66-4459-bb4f-ca9018ee7f2a",
   "metadata": {},
   "outputs": [],
   "source": [
    "###extract moic_break_even from df_cf where cohort_month = first_negative_balance_cohort_month"
   ]
  },
  {
   "cell_type": "code",
   "execution_count": null,
   "id": "2b17bdc1-8567-4d49-bef6-d43488f5c75f",
   "metadata": {},
   "outputs": [],
   "source": []
  },
  {
   "cell_type": "code",
   "execution_count": null,
   "id": "34a36bfa-6b3a-42b5-9c87-385fa3bba33b",
   "metadata": {},
   "outputs": [],
   "source": []
  },
  {
   "cell_type": "code",
   "execution_count": null,
   "id": "5ff3aa0b-0670-4c63-8965-c976aa9edf3b",
   "metadata": {},
   "outputs": [],
   "source": [
    "#########################################"
   ]
  },
  {
   "cell_type": "code",
   "execution_count": 163,
   "id": "fdbbf513-7e84-4906-8b74-1268fb90d3d1",
   "metadata": {},
   "outputs": [],
   "source": [
    "df_loan.to_csv('ver_loan.csv')"
   ]
  },
  {
   "cell_type": "code",
   "execution_count": null,
   "id": "1e5faab2-1ba1-4ca5-aac3-d5e0dea3791a",
   "metadata": {},
   "outputs": [],
   "source": [
    "\n"
   ]
  },
  {
   "cell_type": "code",
   "execution_count": null,
   "id": "3990c901-ad68-4954-ac66-802a61acb524",
   "metadata": {},
   "outputs": [],
   "source": []
  }
 ],
 "metadata": {
  "kernelspec": {
   "display_name": "Python 3 (ipykernel)",
   "language": "python",
   "name": "python3"
  },
  "language_info": {
   "codemirror_mode": {
    "name": "ipython",
    "version": 3
   },
   "file_extension": ".py",
   "mimetype": "text/x-python",
   "name": "python",
   "nbconvert_exporter": "python",
   "pygments_lexer": "ipython3",
   "version": "3.12.4"
  }
 },
 "nbformat": 4,
 "nbformat_minor": 5
}
