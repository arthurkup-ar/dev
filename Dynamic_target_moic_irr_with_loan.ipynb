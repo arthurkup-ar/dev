{
 "cells": [
  {
   "cell_type": "markdown",
   "id": "b49963d0-813e-4d35-b9e1-80556be2d34c",
   "metadata": {},
   "source": [
    "V1 includes:\n",
    "\n",
    "- For IRR: calculating future IRRs based on targets\n",
    "\n",
    "- For MOIC: adding graph of target and value of Break even (P&I based on 10% a year)"
   ]
  },
  {
   "cell_type": "code",
   "execution_count": 9,
   "id": "9fae4f83-b7b1-482c-b902-daec8c8e9149",
   "metadata": {},
   "outputs": [],
   "source": [
    "import os\n",
    "import sys\n",
    "import pandas as pd\n",
    "import datetime\n",
    "import numpy as np\n",
    "import warnings\n",
    "warnings.filterwarnings('ignore') \n",
    "#import xlsxwriter\n",
    "import seaborn as sns\n",
    "import matplotlib.pyplot as plt\n",
    "from datetime import datetime\n",
    "from dateutil.relativedelta import relativedelta"
   ]
  },
  {
   "cell_type": "code",
   "execution_count": 10,
   "id": "73fb8b2d-005d-4ccf-ae14-1d6cbbd2e056",
   "metadata": {},
   "outputs": [],
   "source": [
    "import pandas_gbq\n",
    "import numpy_financial as npf"
   ]
  },
  {
   "cell_type": "markdown",
   "id": "8a53ec97-bae8-445a-85bc-d72e184d09b9",
   "metadata": {},
   "source": [
    "## Variable for all books"
   ]
  },
  {
   "cell_type": "code",
   "execution_count": 117,
   "id": "fa14b866-7848-4047-b9e0-4491e4c18d4c",
   "metadata": {},
   "outputs": [],
   "source": [
    "annual_interest_rate =0.10\n",
    "factor_ak_loan=0.75"
   ]
  },
  {
   "cell_type": "markdown",
   "id": "6c4d7d00-badb-4dfc-adb3-3fe5a4c15214",
   "metadata": {},
   "source": [
    "## Multitude AU Oct 21"
   ]
  },
  {
   "cell_type": "code",
   "execution_count": 19,
   "id": "8e22baae-0a6f-427b-8264-8934c17fc753",
   "metadata": {},
   "outputs": [],
   "source": [
    "###Manual:\n",
    "book_id='3435712288'"
   ]
  },
  {
   "cell_type": "code",
   "execution_count": 39,
   "id": "61a91746-838e-4d79-bf32-9c742a77bdca",
   "metadata": {},
   "outputs": [],
   "source": [
    "query_purchase='''SELECT book_id,actual_purchase_price,settlement_date,round(actual_purchase_price_usd,2) actual_purchase_price_usd, Region\n",
    "FROM presentation.dim_books db\n",
    "where 1=1\n",
    "and book_id='{}' '''.format(book_id)"
   ]
  },
  {
   "cell_type": "code",
   "execution_count": 41,
   "id": "11e812be-4e47-4925-b19d-68adbc24c49e",
   "metadata": {},
   "outputs": [
    {
     "name": "stdout",
     "output_type": "stream",
     "text": [
      "Downloading: 100%|\u001b[32m████████████████████████████████████████████████████████████████████████████████████████████████████\u001b[0m|\u001b[0m\n"
     ]
    }
   ],
   "source": [
    "df_purch = pandas_gbq.read_gbq(query_purchase,project_id=\"data-team-318806\")"
   ]
  },
  {
   "cell_type": "code",
   "execution_count": 43,
   "id": "7318c4de-1bc1-42e6-9e97-e74f72439c83",
   "metadata": {},
   "outputs": [
    {
     "data": {
      "text/html": [
       "<div>\n",
       "<style scoped>\n",
       "    .dataframe tbody tr th:only-of-type {\n",
       "        vertical-align: middle;\n",
       "    }\n",
       "\n",
       "    .dataframe tbody tr th {\n",
       "        vertical-align: top;\n",
       "    }\n",
       "\n",
       "    .dataframe thead th {\n",
       "        text-align: right;\n",
       "    }\n",
       "</style>\n",
       "<table border=\"1\" class=\"dataframe\">\n",
       "  <thead>\n",
       "    <tr style=\"text-align: right;\">\n",
       "      <th></th>\n",
       "      <th>book_id</th>\n",
       "      <th>actual_purchase_price</th>\n",
       "      <th>settlement_date</th>\n",
       "      <th>actual_purchase_price_usd</th>\n",
       "      <th>Region</th>\n",
       "    </tr>\n",
       "  </thead>\n",
       "  <tbody>\n",
       "    <tr>\n",
       "      <th>0</th>\n",
       "      <td>3435712288</td>\n",
       "      <td>659683.0</td>\n",
       "      <td>2021-10-20</td>\n",
       "      <td>495759.97</td>\n",
       "      <td>AU</td>\n",
       "    </tr>\n",
       "  </tbody>\n",
       "</table>\n",
       "</div>"
      ],
      "text/plain": [
       "      book_id  actual_purchase_price settlement_date  \\\n",
       "0  3435712288               659683.0      2021-10-20   \n",
       "\n",
       "   actual_purchase_price_usd Region  \n",
       "0                  495759.97     AU  "
      ]
     },
     "execution_count": 43,
     "metadata": {},
     "output_type": "execute_result"
    }
   ],
   "source": [
    "df_purch"
   ]
  },
  {
   "cell_type": "code",
   "execution_count": 75,
   "id": "ef66412c-b071-4dc6-b0b9-21869001e9e2",
   "metadata": {},
   "outputs": [],
   "source": [
    "query_cf='''SELECT book_id,book_name,month_cohort,calendary_month, calendary_year\n",
    ",round(sum(actual_amount),2) actual_amount,round(sum(actual_amount_usd),2) actual_amount_usd\n",
    ",round(sum(target_prediction_amount),2)target_prediction_amount  ,round(sum(target_prediction_amount_usd),2) target_prediction_amount_usd\n",
    "FROM presentation.fact_performance_matrics\n",
    "where 1=1\n",
    "and book_id='{}'\n",
    "group by all\n",
    "having month_cohort is not null and actual_amount is not null\n",
    "order by month_cohort'''.format(book_id)"
   ]
  },
  {
   "cell_type": "code",
   "execution_count": 77,
   "id": "d2723816-385f-4ca7-b020-4045fdae86b5",
   "metadata": {},
   "outputs": [
    {
     "name": "stdout",
     "output_type": "stream",
     "text": [
      "Downloading: 100%|\u001b[32m████████████████████████████████████████████████████████████████████████████████████████████████████\u001b[0m|\u001b[0m\n"
     ]
    }
   ],
   "source": [
    "df_cf=pandas_gbq.read_gbq(query_cf,project_id=\"data-team-318806\")"
   ]
  },
  {
   "cell_type": "code",
   "execution_count": 83,
   "id": "d33a4986-1307-4b4b-911e-b03341be1d73",
   "metadata": {},
   "outputs": [],
   "source": [
    "book_name=df_cf.iloc[0,1]"
   ]
  },
  {
   "cell_type": "code",
   "execution_count": 85,
   "id": "b2483943-9e0e-445a-866d-533fb695b117",
   "metadata": {},
   "outputs": [],
   "source": [
    "### MOIC Calculation"
   ]
  },
  {
   "cell_type": "code",
   "execution_count": 87,
   "id": "cbaca011-b7ae-4f68-b7cf-0df54e598730",
   "metadata": {},
   "outputs": [],
   "source": [
    "cashflow=df_cf['actual_amount'].tolist()"
   ]
  },
  {
   "cell_type": "code",
   "execution_count": 89,
   "id": "8d67ce43-acf3-4ab7-ae48-92af540bb465",
   "metadata": {},
   "outputs": [],
   "source": [
    "#### Calculating Dynamic MOIC\n",
    "moic_num=0.0\n",
    "moic_temp=0.0\n",
    "moic=[]\n",
    "purchase_value=abs(df_purch.iloc[0,1])\n",
    "selected_values=[]\n",
    "for i in range(0, len(cashflow)):\n",
    "    selected_values.append(cashflow[i])\n",
    "    moic_num = round((sum(selected_values)),2)\n",
    "    moic_temp=round(moic_num/purchase_value,2)\n",
    "    moic.append(moic_temp)\n",
    "    \n",
    "df_cf['moic']=moic "
   ]
  },
  {
   "cell_type": "code",
   "execution_count": 188,
   "id": "a56b459a-3d49-4273-a666-0b7fbf8bb2cb",
   "metadata": {},
   "outputs": [],
   "source": [
    "#### Calculating Dynamic MOIC based on target"
   ]
  },
  {
   "cell_type": "code",
   "execution_count": 190,
   "id": "e1d9c553-4574-4a9f-8ebe-56964fd91f1d",
   "metadata": {},
   "outputs": [],
   "source": [
    "cashflow=[]\n",
    "cashflow=df_cf['target_prediction_amount'].tolist()\n",
    "\n",
    "moic_num=0.0\n",
    "moic_temp=0.0\n",
    "moic=[]\n",
    "purchase_value=abs(df_purch.iloc[0,1])\n",
    "selected_values=[]\n",
    "for i in range(0, len(cashflow)):\n",
    "    selected_values.append(cashflow[i])\n",
    "    moic_num = round((sum(selected_values)),2)\n",
    "    moic_temp=round(moic_num/purchase_value,2)\n",
    "    moic.append(moic_temp)\n",
    "\n",
    "df_cf['moic_target']=moic "
   ]
  },
  {
   "cell_type": "code",
   "execution_count": 99,
   "id": "10b4acc5-5352-42f7-a00f-224f609951b7",
   "metadata": {},
   "outputs": [],
   "source": [
    "####Adding Value of P&I"
   ]
  },
  {
   "cell_type": "code",
   "execution_count": 103,
   "id": "f86f733e-a733-47df-9de9-564a97d41d3e",
   "metadata": {},
   "outputs": [],
   "source": [
    "price= purchase_value.copy()"
   ]
  },
  {
   "cell_type": "code",
   "execution_count": 131,
   "id": "aa6e4c6d-7127-459e-8b6b-7610922d7bce",
   "metadata": {},
   "outputs": [],
   "source": [
    "monthly_rate = ((1+annual_interest_rate )**(1/12))-1"
   ]
  },
  {
   "cell_type": "code",
   "execution_count": 133,
   "id": "bc2d08e9-daf2-46ad-b369-0a65f951f9a4",
   "metadata": {},
   "outputs": [
    {
     "data": {
      "text/plain": [
       "0.007974140428903764"
      ]
     },
     "execution_count": 133,
     "metadata": {},
     "output_type": "execute_result"
    }
   ],
   "source": [
    "monthly_rate"
   ]
  },
  {
   "cell_type": "code",
   "execution_count": 149,
   "id": "dace9fee-1191-45c5-b15c-f902972b5f8c",
   "metadata": {},
   "outputs": [],
   "source": [
    "monthly_payments = round(df_cf['actual_amount']*factor_ak_loan,2)"
   ]
  },
  {
   "cell_type": "code",
   "execution_count": 151,
   "id": "6d33573b-760a-49be-8d3b-75d3880f31c4",
   "metadata": {},
   "outputs": [],
   "source": [
    "monthly_payments=monthly_payments.tolist()"
   ]
  },
  {
   "cell_type": "code",
   "execution_count": 155,
   "id": "76b5cf39-acf7-4313-8f6a-e664e8aa713b",
   "metadata": {},
   "outputs": [],
   "source": [
    "remaining_balance = price\n",
    "data = []"
   ]
  },
  {
   "cell_type": "code",
   "execution_count": 180,
   "id": "5b97c861-c8d9-4780-9210-9f63f0d3797b",
   "metadata": {},
   "outputs": [],
   "source": [
    "df_loan=pd.DataFrame()\n",
    "for month, payment in enumerate(monthly_payments, start=1):\n",
    "    interest_payment = remaining_balance * monthly_rate\n",
    "    principal_payment = payment - interest_payment\n",
    "    remaining_balance -= principal_payment\n",
    "    data.append({\n",
    "        \"cohort_month\": month,\n",
    "        \"monthly_payment\": payment,\n",
    "        \"principal_payment\": principal_payment,\n",
    "        \"interest_payment\": interest_payment,\n",
    "        \"remaining_balance\": remaining_balance\n",
    "    })\n",
    "\n",
    "df_loan = pd.DataFrame(data)\n"
   ]
  },
  {
   "cell_type": "code",
   "execution_count": 182,
   "id": "989a1247-0174-4d71-860d-adfcfb298613",
   "metadata": {},
   "outputs": [],
   "source": [
    "first_negative_balance = df_loan[df_loan[\"remaining_balance\"] < 0].iloc[0]"
   ]
  },
  {
   "cell_type": "code",
   "execution_count": 184,
   "id": "ce38c7ce-c620-4362-8ae4-dd2799e2e96f",
   "metadata": {},
   "outputs": [],
   "source": [
    "first_negative_balance_cohort_month = int(first_negative_balance[\"cohort_month\"])"
   ]
  },
  {
   "cell_type": "code",
   "execution_count": 186,
   "id": "e358da3d-a09f-4694-9703-cf17c650c24b",
   "metadata": {},
   "outputs": [
    {
     "data": {
      "text/plain": [
       "4"
      ]
     },
     "execution_count": 186,
     "metadata": {},
     "output_type": "execute_result"
    }
   ],
   "source": [
    "first_negative_balance_cohort_month"
   ]
  },
  {
   "cell_type": "code",
   "execution_count": 202,
   "id": "6183d991-6a66-4459-bb4f-ca9018ee7f2a",
   "metadata": {},
   "outputs": [],
   "source": [
    "### Getting moic_break_even when month_cohort=first_negative_balance_cohort_month\n",
    "\n",
    "moic_break_even = df_cf.loc[df_cf['month_cohort'] == first_negative_balance_cohort_month, 'moic'].values[0]"
   ]
  },
  {
   "cell_type": "code",
   "execution_count": 204,
   "id": "b2fb8184-83df-4caf-a237-bf26d28777e1",
   "metadata": {},
   "outputs": [
    {
     "data": {
      "text/plain": [
       "1.37"
      ]
     },
     "execution_count": 204,
     "metadata": {},
     "output_type": "execute_result"
    }
   ],
   "source": [
    "moic_break_even"
   ]
  },
  {
   "cell_type": "code",
   "execution_count": null,
   "id": "34a36bfa-6b3a-42b5-9c87-385fa3bba33b",
   "metadata": {},
   "outputs": [],
   "source": [
    "####Calculting IRR"
   ]
  },
  {
   "cell_type": "code",
   "execution_count": 210,
   "id": "21b07137-b044-490e-9b73-6ca36f909f3e",
   "metadata": {},
   "outputs": [],
   "source": [
    "df_irr_actual=df_cf['actual_amount'].tolist().copy()\n",
    "df_irr_target=df_cf['target_prediction_amount'].tolist().copy()"
   ]
  },
  {
   "cell_type": "code",
   "execution_count": 220,
   "id": "c690d30e-c269-4ebf-b5a2-b7b2504bcc11",
   "metadata": {},
   "outputs": [],
   "source": [
    "num_elements = len(df_irr_actual)  \n",
    "\n",
    "combined_lists = []\n",
    "combined_lists_array=[]\n",
    "\n",
    "for i in range(1, num_elements + 1):\n",
    "    new_list = df_irr_actual[:i] + df_irr_target[i:]\n",
    "    combined_lists.append(new_list)\n",
    "\n",
    "combined_lists_array = np.array(combined_lists)"
   ]
  },
  {
   "cell_type": "code",
   "execution_count": 246,
   "id": "f728c8a2-dc97-42e6-aa9c-c7b70271b8cb",
   "metadata": {},
   "outputs": [],
   "source": [
    "###Adding purchase as negative number"
   ]
  },
  {
   "cell_type": "code",
   "execution_count": 252,
   "id": "dfad68e3-ae5d-48f2-88df-640f3c17b021",
   "metadata": {},
   "outputs": [],
   "source": [
    "fixed_value=0\n",
    "fixed_value = df_purch.iloc[0, 1] * -1\n",
    "\n",
    "extended_lists = []\n",
    "extended_lists_array=[]\n",
    "for lst in combined_lists_array:\n",
    "    new_list = [fixed_value] + lst.tolist()\n",
    "    extended_lists.append(new_list)\n",
    "\n",
    "extended_lists_array = np.array(extended_lists)  "
   ]
  },
  {
   "cell_type": "code",
   "execution_count": 272,
   "id": "81d7526a-16a4-457e-b4cb-85242ea9629b",
   "metadata": {},
   "outputs": [],
   "source": [
    "#####value of IRR\n",
    "\n",
    "irr_temp=0\n",
    "irr=[]\n",
    "for list in extended_lists_array:\n",
    "\tirr_temp=round(npf.irr(list),4)\n",
    "\tirr.append(irr_temp)\n",
    "\n",
    "df_cf['irr']=irr "
   ]
  },
  {
   "cell_type": "code",
   "execution_count": null,
   "id": "1ae2f62b-9ae3-4d45-ba5b-8cb5ae3aa685",
   "metadata": {},
   "outputs": [],
   "source": []
  },
  {
   "cell_type": "code",
   "execution_count": null,
   "id": "641d7420-3ecd-4250-9dc9-236543e544ea",
   "metadata": {},
   "outputs": [],
   "source": []
  },
  {
   "cell_type": "code",
   "execution_count": null,
   "id": "d7cc344d-a994-42ff-9836-57ebc52dd790",
   "metadata": {},
   "outputs": [],
   "source": []
  },
  {
   "cell_type": "code",
   "execution_count": null,
   "id": "529875de-5748-4bd3-ba4f-2f81f935d94e",
   "metadata": {},
   "outputs": [],
   "source": []
  },
  {
   "cell_type": "code",
   "execution_count": null,
   "id": "cc0c84a9-20f2-43a0-aaa9-2e350b652ef6",
   "metadata": {},
   "outputs": [],
   "source": [
    "#############################################"
   ]
  },
  {
   "cell_type": "code",
   "execution_count": null,
   "id": "6e25ee9f-33cb-4634-975c-1bc4d3bb72e9",
   "metadata": {},
   "outputs": [],
   "source": []
  },
  {
   "cell_type": "code",
   "execution_count": null,
   "id": "46ddba99-d08f-41ce-b400-fe8b66783580",
   "metadata": {},
   "outputs": [],
   "source": []
  },
  {
   "cell_type": "code",
   "execution_count": null,
   "id": "fbd3e5ff-40b5-40d5-b632-2a7702e6ff38",
   "metadata": {},
   "outputs": [],
   "source": []
  },
  {
   "cell_type": "code",
   "execution_count": null,
   "id": "9da4403a-ed2c-41b5-a19e-5c3890547ce4",
   "metadata": {},
   "outputs": [],
   "source": []
  },
  {
   "cell_type": "code",
   "execution_count": null,
   "id": "a5a7ba05-d23f-4dd7-a5e0-7662cee42b65",
   "metadata": {},
   "outputs": [],
   "source": []
  },
  {
   "cell_type": "code",
   "execution_count": null,
   "id": "fc88eee4-ef3d-4da7-b58c-cf72513e9569",
   "metadata": {},
   "outputs": [],
   "source": []
  },
  {
   "cell_type": "code",
   "execution_count": null,
   "id": "b6d91de7-d197-4b88-942e-a4b15883f7ba",
   "metadata": {},
   "outputs": [],
   "source": []
  },
  {
   "cell_type": "code",
   "execution_count": null,
   "id": "63e79191-9217-40c4-ae34-2f95f9ee10d2",
   "metadata": {},
   "outputs": [],
   "source": []
  },
  {
   "cell_type": "code",
   "execution_count": null,
   "id": "5ff3aa0b-0670-4c63-8965-c976aa9edf3b",
   "metadata": {},
   "outputs": [],
   "source": [
    "#########################################"
   ]
  },
  {
   "cell_type": "code",
   "execution_count": 196,
   "id": "fdbbf513-7e84-4906-8b74-1268fb90d3d1",
   "metadata": {},
   "outputs": [],
   "source": [
    "df_cf.to_csv('verification.csv')"
   ]
  },
  {
   "cell_type": "code",
   "execution_count": null,
   "id": "1e5faab2-1ba1-4ca5-aac3-d5e0dea3791a",
   "metadata": {},
   "outputs": [],
   "source": [
    "\n"
   ]
  },
  {
   "cell_type": "code",
   "execution_count": null,
   "id": "3990c901-ad68-4954-ac66-802a61acb524",
   "metadata": {},
   "outputs": [],
   "source": []
  }
 ],
 "metadata": {
  "kernelspec": {
   "display_name": "Python 3 (ipykernel)",
   "language": "python",
   "name": "python3"
  },
  "language_info": {
   "codemirror_mode": {
    "name": "ipython",
    "version": 3
   },
   "file_extension": ".py",
   "mimetype": "text/x-python",
   "name": "python",
   "nbconvert_exporter": "python",
   "pygments_lexer": "ipython3",
   "version": "3.12.4"
  }
 },
 "nbformat": 4,
 "nbformat_minor": 5
}
