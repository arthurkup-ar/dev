{
 "cells": [
  {
   "cell_type": "markdown",
   "metadata": {},
   "source": [
    "### Import libraries"
   ]
  },
  {
   "cell_type": "code",
   "execution_count": 1,
   "metadata": {},
   "outputs": [],
   "source": [
    "import os\n",
    "import sys\n",
    "import pandas as pd\n",
    "import datetime\n",
    "import numpy as np\n",
    "import warnings\n",
    "warnings.filterwarnings('ignore') \n",
    "import xlsxwriter\n",
    "import seaborn as sns\n",
    "import matplotlib.pyplot as plt\n",
    "from datetime import datetime\n",
    "from dateutil.relativedelta import relativedelta\n"
   ]
  },
  {
   "cell_type": "markdown",
   "metadata": {},
   "source": [
    "### Function"
   ]
  },
  {
   "cell_type": "code",
   "execution_count": 2,
   "metadata": {},
   "outputs": [],
   "source": [
    "def calculate_months_diff(start, end):\n",
    "    delta = relativedelta(end, start)\n",
    "    return delta.years * 12 + delta.months"
   ]
  },
  {
   "cell_type": "markdown",
   "metadata": {},
   "source": [
    "### Reading data"
   ]
  },
  {
   "cell_type": "code",
   "execution_count": 3,
   "metadata": {},
   "outputs": [],
   "source": [
    "df=pd.read_excel('AK Home Task  (1).xlsx', sheet_name='Book Data')"
   ]
  },
  {
   "cell_type": "code",
   "execution_count": 4,
   "metadata": {},
   "outputs": [
    {
     "data": {
      "text/html": [
       "<div>\n",
       "<style scoped>\n",
       "    .dataframe tbody tr th:only-of-type {\n",
       "        vertical-align: middle;\n",
       "    }\n",
       "\n",
       "    .dataframe tbody tr th {\n",
       "        vertical-align: top;\n",
       "    }\n",
       "\n",
       "    .dataframe thead th {\n",
       "        text-align: right;\n",
       "    }\n",
       "</style>\n",
       "<table border=\"1\" class=\"dataframe\">\n",
       "  <thead>\n",
       "    <tr style=\"text-align: right;\">\n",
       "      <th></th>\n",
       "      <th>Portfolio #</th>\n",
       "      <th>ID</th>\n",
       "      <th>Gender</th>\n",
       "      <th>Date_of_birth</th>\n",
       "      <th>city</th>\n",
       "      <th>county</th>\n",
       "      <th>postcode</th>\n",
       "      <th>original_sum</th>\n",
       "      <th>duedate</th>\n",
       "      <th>current balance</th>\n",
       "      <th>principal</th>\n",
       "      <th>interest</th>\n",
       "      <th>fee 1</th>\n",
       "      <th>fee 2</th>\n",
       "      <th>fee 3</th>\n",
       "      <th>fee 4</th>\n",
       "      <th>apr</th>\n",
       "      <th>interest_per_day</th>\n",
       "      <th>total_paid</th>\n",
       "    </tr>\n",
       "  </thead>\n",
       "  <tbody>\n",
       "    <tr>\n",
       "      <th>0</th>\n",
       "      <td>1</td>\n",
       "      <td>1</td>\n",
       "      <td>Male</td>\n",
       "      <td>1973-08-20 00:00:00</td>\n",
       "      <td>Montcada</td>\n",
       "      <td>Valencia</td>\n",
       "      <td>46113</td>\n",
       "      <td>1000</td>\n",
       "      <td>2023-12-23</td>\n",
       "      <td>2169.89</td>\n",
       "      <td>1000.0</td>\n",
       "      <td>250.00</td>\n",
       "      <td>243.0</td>\n",
       "      <td>0.0</td>\n",
       "      <td>830.0</td>\n",
       "      <td>89.89</td>\n",
       "      <td>3.0000</td>\n",
       "      <td>0.0082</td>\n",
       "      <td>185.11</td>\n",
       "    </tr>\n",
       "    <tr>\n",
       "      <th>1</th>\n",
       "      <td>1</td>\n",
       "      <td>2</td>\n",
       "      <td>Male</td>\n",
       "      <td>1992-06-06 00:00:00</td>\n",
       "      <td>Picassent</td>\n",
       "      <td>Valencia</td>\n",
       "      <td>46220</td>\n",
       "      <td>100</td>\n",
       "      <td>2024-01-01</td>\n",
       "      <td>221.67</td>\n",
       "      <td>100.0</td>\n",
       "      <td>4.67</td>\n",
       "      <td>24.3</td>\n",
       "      <td>0.0</td>\n",
       "      <td>100.0</td>\n",
       "      <td>17.00</td>\n",
       "      <td>2.4017</td>\n",
       "      <td>0.0066</td>\n",
       "      <td>0.00</td>\n",
       "    </tr>\n",
       "    <tr>\n",
       "      <th>2</th>\n",
       "      <td>1</td>\n",
       "      <td>3</td>\n",
       "      <td>Female</td>\n",
       "      <td>1960-10-11 00:00:00</td>\n",
       "      <td>Coslada</td>\n",
       "      <td>Madrid</td>\n",
       "      <td>28822</td>\n",
       "      <td>300</td>\n",
       "      <td>2023-12-31</td>\n",
       "      <td>693.30</td>\n",
       "      <td>300.0</td>\n",
       "      <td>51.00</td>\n",
       "      <td>72.9</td>\n",
       "      <td>0.0</td>\n",
       "      <td>282.3</td>\n",
       "      <td>60.00</td>\n",
       "      <td>2.0400</td>\n",
       "      <td>0.0056</td>\n",
       "      <td>0.00</td>\n",
       "    </tr>\n",
       "    <tr>\n",
       "      <th>3</th>\n",
       "      <td>1</td>\n",
       "      <td>4</td>\n",
       "      <td>Female</td>\n",
       "      <td>1976-11-10 00:00:00</td>\n",
       "      <td>Alicante</td>\n",
       "      <td>Alicante</td>\n",
       "      <td>3003</td>\n",
       "      <td>1000</td>\n",
       "      <td>2023-12-31</td>\n",
       "      <td>2171.00</td>\n",
       "      <td>1000.0</td>\n",
       "      <td>126.00</td>\n",
       "      <td>243.0</td>\n",
       "      <td>74.0</td>\n",
       "      <td>801.0</td>\n",
       "      <td>170.00</td>\n",
       "      <td>2.4000</td>\n",
       "      <td>0.0066</td>\n",
       "      <td>0.00</td>\n",
       "    </tr>\n",
       "    <tr>\n",
       "      <th>4</th>\n",
       "      <td>1</td>\n",
       "      <td>5</td>\n",
       "      <td>Female</td>\n",
       "      <td>1993-07-13 00:00:00</td>\n",
       "      <td>Santa margarita de montbui</td>\n",
       "      <td>Barcelona</td>\n",
       "      <td>8710</td>\n",
       "      <td>100</td>\n",
       "      <td>2024-01-13</td>\n",
       "      <td>237.00</td>\n",
       "      <td>100.0</td>\n",
       "      <td>17.00</td>\n",
       "      <td>24.3</td>\n",
       "      <td>0.0</td>\n",
       "      <td>100.0</td>\n",
       "      <td>20.00</td>\n",
       "      <td>2.0400</td>\n",
       "      <td>0.0056</td>\n",
       "      <td>0.00</td>\n",
       "    </tr>\n",
       "  </tbody>\n",
       "</table>\n",
       "</div>"
      ],
      "text/plain": [
       "   Portfolio #  ID  Gender        Date_of_birth                        city  \\\n",
       "0            1   1    Male  1973-08-20 00:00:00                    Montcada   \n",
       "1            1   2    Male  1992-06-06 00:00:00                   Picassent   \n",
       "2            1   3  Female  1960-10-11 00:00:00                     Coslada   \n",
       "3            1   4  Female  1976-11-10 00:00:00                    Alicante   \n",
       "4            1   5  Female  1993-07-13 00:00:00  Santa margarita de montbui   \n",
       "\n",
       "      county  postcode  original_sum    duedate  current balance  principal  \\\n",
       "0   Valencia     46113          1000 2023-12-23          2169.89     1000.0   \n",
       "1   Valencia     46220           100 2024-01-01           221.67      100.0   \n",
       "2     Madrid     28822           300 2023-12-31           693.30      300.0   \n",
       "3   Alicante      3003          1000 2023-12-31          2171.00     1000.0   \n",
       "4  Barcelona      8710           100 2024-01-13           237.00      100.0   \n",
       "\n",
       "   interest  fee 1  fee 2  fee 3   fee 4     apr  interest_per_day  total_paid  \n",
       "0    250.00  243.0    0.0  830.0   89.89  3.0000            0.0082      185.11  \n",
       "1      4.67   24.3    0.0  100.0   17.00  2.4017            0.0066        0.00  \n",
       "2     51.00   72.9    0.0  282.3   60.00  2.0400            0.0056        0.00  \n",
       "3    126.00  243.0   74.0  801.0  170.00  2.4000            0.0066        0.00  \n",
       "4     17.00   24.3    0.0  100.0   20.00  2.0400            0.0056        0.00  "
      ]
     },
     "execution_count": 4,
     "metadata": {},
     "output_type": "execute_result"
    }
   ],
   "source": [
    "df.head()"
   ]
  },
  {
   "cell_type": "markdown",
   "metadata": {},
   "source": [
    "### Creating one DataSet per Portfolio"
   ]
  },
  {
   "cell_type": "code",
   "execution_count": 5,
   "metadata": {},
   "outputs": [],
   "source": [
    "df1=df[(df['Portfolio #']==1)].copy()"
   ]
  },
  {
   "cell_type": "code",
   "execution_count": 6,
   "metadata": {},
   "outputs": [],
   "source": [
    "df2=df[(df['Portfolio #']==2)].copy()"
   ]
  },
  {
   "cell_type": "code",
   "execution_count": 7,
   "metadata": {},
   "outputs": [
    {
     "data": {
      "text/plain": [
       "(250, 19)"
      ]
     },
     "execution_count": 7,
     "metadata": {},
     "output_type": "execute_result"
    }
   ],
   "source": [
    "df1.shape"
   ]
  },
  {
   "cell_type": "code",
   "execution_count": 8,
   "metadata": {},
   "outputs": [
    {
     "data": {
      "text/plain": [
       "(300, 19)"
      ]
     },
     "execution_count": 8,
     "metadata": {},
     "output_type": "execute_result"
    }
   ],
   "source": [
    "df2.shape"
   ]
  },
  {
   "cell_type": "markdown",
   "metadata": {},
   "source": [
    "#### Insight: Portfolio 1: 250 clients. Portfolio 2: 300 clients"
   ]
  },
  {
   "cell_type": "markdown",
   "metadata": {},
   "source": [
    "### Missing data"
   ]
  },
  {
   "cell_type": "code",
   "execution_count": 9,
   "metadata": {},
   "outputs": [
    {
     "data": {
      "text/html": [
       "<div>\n",
       "<style scoped>\n",
       "    .dataframe tbody tr th:only-of-type {\n",
       "        vertical-align: middle;\n",
       "    }\n",
       "\n",
       "    .dataframe tbody tr th {\n",
       "        vertical-align: top;\n",
       "    }\n",
       "\n",
       "    .dataframe thead th {\n",
       "        text-align: right;\n",
       "    }\n",
       "</style>\n",
       "<table border=\"1\" class=\"dataframe\">\n",
       "  <thead>\n",
       "    <tr style=\"text-align: right;\">\n",
       "      <th></th>\n",
       "      <th>field</th>\n",
       "      <th>amount_null</th>\n",
       "      <th>total_rows</th>\n",
       "      <th>null weight</th>\n",
       "    </tr>\n",
       "  </thead>\n",
       "  <tbody>\n",
       "    <tr>\n",
       "      <th>16</th>\n",
       "      <td>apr</td>\n",
       "      <td>7</td>\n",
       "      <td>250</td>\n",
       "      <td>0.028</td>\n",
       "    </tr>\n",
       "    <tr>\n",
       "      <th>17</th>\n",
       "      <td>interest_per_day</td>\n",
       "      <td>5</td>\n",
       "      <td>250</td>\n",
       "      <td>0.020</td>\n",
       "    </tr>\n",
       "  </tbody>\n",
       "</table>\n",
       "</div>"
      ],
      "text/plain": [
       "               field  amount_null  total_rows  null weight\n",
       "16               apr            7         250        0.028\n",
       "17  interest_per_day            5         250        0.020"
      ]
     },
     "execution_count": 9,
     "metadata": {},
     "output_type": "execute_result"
    }
   ],
   "source": [
    "df_null1=pd.DataFrame(df1.isnull().sum(), columns=['amount_null']).reset_index()\n",
    "df_null1 = df_null1.rename(columns={'index': 'field'})\n",
    "df_null1['total_rows']=len(df1)\n",
    "df_null1['null weight']=df_null1['amount_null']/df_null1['total_rows']\n",
    "df_null1[(df_null1.amount_null !=0)]"
   ]
  },
  {
   "cell_type": "markdown",
   "metadata": {},
   "source": [
    "#### Insight: Replacing interest of apr an interest_per_day for the median of the field for Portfolio 1"
   ]
  },
  {
   "cell_type": "code",
   "execution_count": 10,
   "metadata": {},
   "outputs": [],
   "source": [
    "df1['apr']=df1['apr'].fillna(df1['apr'].median())\n",
    "df1['interest_per_day']=df1['interest_per_day'].fillna(df1['interest_per_day'].median())"
   ]
  },
  {
   "cell_type": "code",
   "execution_count": 11,
   "metadata": {},
   "outputs": [
    {
     "data": {
      "text/html": [
       "<div>\n",
       "<style scoped>\n",
       "    .dataframe tbody tr th:only-of-type {\n",
       "        vertical-align: middle;\n",
       "    }\n",
       "\n",
       "    .dataframe tbody tr th {\n",
       "        vertical-align: top;\n",
       "    }\n",
       "\n",
       "    .dataframe thead th {\n",
       "        text-align: right;\n",
       "    }\n",
       "</style>\n",
       "<table border=\"1\" class=\"dataframe\">\n",
       "  <thead>\n",
       "    <tr style=\"text-align: right;\">\n",
       "      <th></th>\n",
       "      <th>field</th>\n",
       "      <th>amount_null</th>\n",
       "      <th>total_rows</th>\n",
       "      <th>null weight</th>\n",
       "    </tr>\n",
       "  </thead>\n",
       "  <tbody>\n",
       "    <tr>\n",
       "      <th>8</th>\n",
       "      <td>duedate</td>\n",
       "      <td>31</td>\n",
       "      <td>300</td>\n",
       "      <td>0.103333</td>\n",
       "    </tr>\n",
       "  </tbody>\n",
       "</table>\n",
       "</div>"
      ],
      "text/plain": [
       "     field  amount_null  total_rows  null weight\n",
       "8  duedate           31         300     0.103333"
      ]
     },
     "execution_count": 11,
     "metadata": {},
     "output_type": "execute_result"
    }
   ],
   "source": [
    "df_null2=pd.DataFrame(df2.isnull().sum(), columns=['amount_null']).reset_index()\n",
    "df_null2 = df_null2.rename(columns={'index': 'field'})\n",
    "df_null2['total_rows']=len(df2)\n",
    "df_null2['null weight']=df_null2['amount_null']/df_null2['total_rows']\n",
    "df_null2[(df_null2.amount_null !=0)]"
   ]
  },
  {
   "cell_type": "markdown",
   "metadata": {},
   "source": [
    "#### Insight: Replacing duedate for the median for Portfolio 2"
   ]
  },
  {
   "cell_type": "code",
   "execution_count": 12,
   "metadata": {},
   "outputs": [],
   "source": [
    "df2['duedate'] = pd.to_datetime(df2['duedate'])\n",
    "timestamps = df2['duedate'].dropna().view(np.int64) / 10**9 # Convert to seconds since epoch\n",
    "median_timestamp = timestamps.median()\n",
    "median_duedate = pd.to_datetime(median_timestamp, unit='s')\n",
    "df2['duedate'] = df2['duedate'].fillna(median_duedate)"
   ]
  },
  {
   "cell_type": "code",
   "execution_count": 13,
   "metadata": {},
   "outputs": [
    {
     "data": {
      "text/html": [
       "<div>\n",
       "<style scoped>\n",
       "    .dataframe tbody tr th:only-of-type {\n",
       "        vertical-align: middle;\n",
       "    }\n",
       "\n",
       "    .dataframe tbody tr th {\n",
       "        vertical-align: top;\n",
       "    }\n",
       "\n",
       "    .dataframe thead th {\n",
       "        text-align: right;\n",
       "    }\n",
       "</style>\n",
       "<table border=\"1\" class=\"dataframe\">\n",
       "  <thead>\n",
       "    <tr style=\"text-align: right;\">\n",
       "      <th></th>\n",
       "      <th>Portfolio #</th>\n",
       "      <th>ID</th>\n",
       "      <th>Gender</th>\n",
       "      <th>Date_of_birth</th>\n",
       "      <th>city</th>\n",
       "      <th>county</th>\n",
       "      <th>postcode</th>\n",
       "      <th>original_sum</th>\n",
       "      <th>duedate</th>\n",
       "      <th>current balance</th>\n",
       "      <th>principal</th>\n",
       "      <th>interest</th>\n",
       "      <th>fee 1</th>\n",
       "      <th>fee 2</th>\n",
       "      <th>fee 3</th>\n",
       "      <th>fee 4</th>\n",
       "      <th>apr</th>\n",
       "      <th>interest_per_day</th>\n",
       "      <th>total_paid</th>\n",
       "    </tr>\n",
       "  </thead>\n",
       "  <tbody>\n",
       "    <tr>\n",
       "      <th>545</th>\n",
       "      <td>2</td>\n",
       "      <td>296</td>\n",
       "      <td>Female</td>\n",
       "      <td>1980-08-15 00:00:00</td>\n",
       "      <td>Madrid</td>\n",
       "      <td>Madrid</td>\n",
       "      <td>28942</td>\n",
       "      <td>250</td>\n",
       "      <td>2023-08-05</td>\n",
       "      <td>415.88</td>\n",
       "      <td>207.94</td>\n",
       "      <td>0.00</td>\n",
       "      <td>50.53</td>\n",
       "      <td>0.0</td>\n",
       "      <td>207.94</td>\n",
       "      <td>0.00</td>\n",
       "      <td>3.0000</td>\n",
       "      <td>0.0082</td>\n",
       "      <td>561.30</td>\n",
       "    </tr>\n",
       "    <tr>\n",
       "      <th>546</th>\n",
       "      <td>2</td>\n",
       "      <td>297</td>\n",
       "      <td>Female</td>\n",
       "      <td>1985-10-21 00:00:00</td>\n",
       "      <td>Abaran</td>\n",
       "      <td>Murcia</td>\n",
       "      <td>30550</td>\n",
       "      <td>100</td>\n",
       "      <td>2023-08-04</td>\n",
       "      <td>177.45</td>\n",
       "      <td>87.34</td>\n",
       "      <td>2.77</td>\n",
       "      <td>21.22</td>\n",
       "      <td>0.0</td>\n",
       "      <td>87.34</td>\n",
       "      <td>0.00</td>\n",
       "      <td>2.7216</td>\n",
       "      <td>0.0075</td>\n",
       "      <td>210.25</td>\n",
       "    </tr>\n",
       "    <tr>\n",
       "      <th>547</th>\n",
       "      <td>2</td>\n",
       "      <td>298</td>\n",
       "      <td>Female</td>\n",
       "      <td>1960-04-23 00:00:00</td>\n",
       "      <td>Caldas de montbuy</td>\n",
       "      <td>Barcelona</td>\n",
       "      <td>8140</td>\n",
       "      <td>300</td>\n",
       "      <td>2023-08-09</td>\n",
       "      <td>687.30</td>\n",
       "      <td>300.00</td>\n",
       "      <td>75.00</td>\n",
       "      <td>72.90</td>\n",
       "      <td>0.0</td>\n",
       "      <td>282.30</td>\n",
       "      <td>30.00</td>\n",
       "      <td>3.0000</td>\n",
       "      <td>0.0082</td>\n",
       "      <td>244.80</td>\n",
       "    </tr>\n",
       "    <tr>\n",
       "      <th>548</th>\n",
       "      <td>2</td>\n",
       "      <td>299</td>\n",
       "      <td>Male</td>\n",
       "      <td>1983-08-07 00:00:00</td>\n",
       "      <td>Pozuelo de alarcon</td>\n",
       "      <td>Madrid</td>\n",
       "      <td>28223</td>\n",
       "      <td>500</td>\n",
       "      <td>2023-08-10</td>\n",
       "      <td>1027.03</td>\n",
       "      <td>500.00</td>\n",
       "      <td>85.00</td>\n",
       "      <td>121.50</td>\n",
       "      <td>0.0</td>\n",
       "      <td>427.93</td>\n",
       "      <td>14.10</td>\n",
       "      <td>3.0000</td>\n",
       "      <td>0.0082</td>\n",
       "      <td>550.89</td>\n",
       "    </tr>\n",
       "    <tr>\n",
       "      <th>549</th>\n",
       "      <td>2</td>\n",
       "      <td>300</td>\n",
       "      <td>Female</td>\n",
       "      <td>1992-06-26 00:00:00</td>\n",
       "      <td>Majadahonda</td>\n",
       "      <td>Madrid</td>\n",
       "      <td>28220</td>\n",
       "      <td>420</td>\n",
       "      <td>2023-08-06</td>\n",
       "      <td>933.31</td>\n",
       "      <td>420.00</td>\n",
       "      <td>105.00</td>\n",
       "      <td>102.06</td>\n",
       "      <td>0.0</td>\n",
       "      <td>371.22</td>\n",
       "      <td>37.09</td>\n",
       "      <td>3.0000</td>\n",
       "      <td>0.0082</td>\n",
       "      <td>285.07</td>\n",
       "    </tr>\n",
       "  </tbody>\n",
       "</table>\n",
       "</div>"
      ],
      "text/plain": [
       "     Portfolio #   ID  Gender        Date_of_birth                city  \\\n",
       "545            2  296  Female  1980-08-15 00:00:00              Madrid   \n",
       "546            2  297  Female  1985-10-21 00:00:00              Abaran   \n",
       "547            2  298  Female  1960-04-23 00:00:00   Caldas de montbuy   \n",
       "548            2  299    Male  1983-08-07 00:00:00  Pozuelo de alarcon   \n",
       "549            2  300  Female  1992-06-26 00:00:00         Majadahonda   \n",
       "\n",
       "        county  postcode  original_sum    duedate  current balance  principal  \\\n",
       "545     Madrid     28942           250 2023-08-05           415.88     207.94   \n",
       "546     Murcia     30550           100 2023-08-04           177.45      87.34   \n",
       "547  Barcelona      8140           300 2023-08-09           687.30     300.00   \n",
       "548     Madrid     28223           500 2023-08-10          1027.03     500.00   \n",
       "549     Madrid     28220           420 2023-08-06           933.31     420.00   \n",
       "\n",
       "     interest   fee 1  fee 2   fee 3  fee 4     apr  interest_per_day  \\\n",
       "545      0.00   50.53    0.0  207.94   0.00  3.0000            0.0082   \n",
       "546      2.77   21.22    0.0   87.34   0.00  2.7216            0.0075   \n",
       "547     75.00   72.90    0.0  282.30  30.00  3.0000            0.0082   \n",
       "548     85.00  121.50    0.0  427.93  14.10  3.0000            0.0082   \n",
       "549    105.00  102.06    0.0  371.22  37.09  3.0000            0.0082   \n",
       "\n",
       "     total_paid  \n",
       "545      561.30  \n",
       "546      210.25  \n",
       "547      244.80  \n",
       "548      550.89  \n",
       "549      285.07  "
      ]
     },
     "execution_count": 13,
     "metadata": {},
     "output_type": "execute_result"
    }
   ],
   "source": [
    "df2.tail()"
   ]
  },
  {
   "cell_type": "markdown",
   "metadata": {},
   "source": [
    "## Outliers"
   ]
  },
  {
   "cell_type": "markdown",
   "metadata": {},
   "source": [
    "### current_balance"
   ]
  },
  {
   "cell_type": "code",
   "execution_count": 14,
   "metadata": {},
   "outputs": [],
   "source": [
    "df1['new_balance']=df1['principal']+df1['interest']+df1['fee 1']+df1['fee 2']+df1['fee 3']+df1['fee 4']"
   ]
  },
  {
   "cell_type": "code",
   "execution_count": 15,
   "metadata": {},
   "outputs": [
    {
     "data": {
      "text/plain": [
       "Index(['Portfolio #', 'ID', 'Gender', 'Date_of_birth', 'city', 'county',\n",
       "       'postcode', 'original_sum', 'duedate', 'current balance', 'principal',\n",
       "       'interest', 'fee 1', 'fee 2', 'fee 3', 'fee 4', 'apr',\n",
       "       'interest_per_day', 'total_paid', 'new_balance'],\n",
       "      dtype='object')"
      ]
     },
     "execution_count": 15,
     "metadata": {},
     "output_type": "execute_result"
    }
   ],
   "source": [
    "df1.columns"
   ]
  },
  {
   "cell_type": "code",
   "execution_count": 16,
   "metadata": {},
   "outputs": [
    {
     "data": {
      "text/plain": [
       "count       250.000000\n",
       "mean      -4959.181000\n",
       "std       62523.139936\n",
       "min     -969463.500000\n",
       "25%          72.900000\n",
       "50%          72.900000\n",
       "75%         145.800000\n",
       "max         243.000000\n",
       "dtype: float64"
      ]
     },
     "execution_count": 16,
     "metadata": {},
     "output_type": "execute_result"
    }
   ],
   "source": [
    "(df1['new_balance']-df1['current balance']).describe()"
   ]
  },
  {
   "cell_type": "code",
   "execution_count": 17,
   "metadata": {},
   "outputs": [],
   "source": [
    "# There are cases in which the difference of new_balance (Calculated) and field current balance is around 969K USD.\n",
    "# So, for consistency, we will use the field new_balance as reference of the value of total customer debt "
   ]
  },
  {
   "cell_type": "code",
   "execution_count": 18,
   "metadata": {},
   "outputs": [],
   "source": [
    "df2['new_balance']=df2['principal']+df2['interest']+df2['fee 1']+df2['fee 2']+df2['fee 3']+df2['fee 4']"
   ]
  },
  {
   "cell_type": "markdown",
   "metadata": {},
   "source": [
    "#### Date_of_birth\n",
    "\n",
    "In cases the value is zero, will be replaced by the mode of the Portfolio"
   ]
  },
  {
   "cell_type": "code",
   "execution_count": 19,
   "metadata": {},
   "outputs": [],
   "source": [
    "df1_date_temp=df1[(df1.Date_of_birth!=0)][['Date_of_birth']].copy()"
   ]
  },
  {
   "cell_type": "code",
   "execution_count": 20,
   "metadata": {},
   "outputs": [
    {
     "data": {
      "text/plain": [
       "Timestamp('1994-08-08 00:00:00')"
      ]
     },
     "execution_count": 20,
     "metadata": {},
     "output_type": "execute_result"
    }
   ],
   "source": [
    "df1_date_temp['Date_of_birth'].mode([0])[0]"
   ]
  },
  {
   "cell_type": "code",
   "execution_count": 21,
   "metadata": {},
   "outputs": [],
   "source": [
    "df1['Date_of_birth']=np.where(df1.Date_of_birth==0,df1_date_temp['Date_of_birth'].mode([0])[0],df1['Date_of_birth'])"
   ]
  },
  {
   "cell_type": "code",
   "execution_count": 22,
   "metadata": {},
   "outputs": [],
   "source": [
    "df2_date_temp=df2[(df2.Date_of_birth!=0)][['Date_of_birth']].copy()\n",
    "df2_date_temp['Date_of_birth'].mode([0])[0]\n",
    "df2['Date_of_birth']=np.where(df2.Date_of_birth==0,df2_date_temp['Date_of_birth'].mode([0])[0],df2['Date_of_birth'])"
   ]
  },
  {
   "cell_type": "markdown",
   "metadata": {},
   "source": [
    "### New field: good client\n",
    "\n",
    "#### Defitinion: if client paid any amount in the past, it means he has will to pay the debt."
   ]
  },
  {
   "cell_type": "code",
   "execution_count": 23,
   "metadata": {},
   "outputs": [],
   "source": [
    "df1['ind_good_client']=np.where(df1.total_paid>0,1,0)"
   ]
  },
  {
   "cell_type": "code",
   "execution_count": 24,
   "metadata": {},
   "outputs": [],
   "source": [
    "df2['ind_good_client']=np.where(df2.total_paid>0,1,0)"
   ]
  },
  {
   "cell_type": "markdown",
   "metadata": {},
   "source": [
    "### Age of clients\n",
    "\n",
    "#### Assuming today is July 1st 2024"
   ]
  },
  {
   "cell_type": "code",
   "execution_count": 25,
   "metadata": {},
   "outputs": [],
   "source": [
    "df1['today']=pd.to_datetime('2024-07-01')\n",
    "df2['today']=pd.to_datetime('2024-07-01')"
   ]
  },
  {
   "cell_type": "code",
   "execution_count": 26,
   "metadata": {},
   "outputs": [],
   "source": [
    "df1['Date_of_birth']=pd.to_datetime(df1['Date_of_birth'])\n",
    "df2['Date_of_birth']=pd.to_datetime(df2['Date_of_birth'])  "
   ]
  },
  {
   "cell_type": "code",
   "execution_count": 27,
   "metadata": {},
   "outputs": [],
   "source": [
    "df1['age_client_years'] = round((df1['today'] - df1['Date_of_birth']).dt.days / 365.25,2)\n",
    "df2['age_client_years'] = round((df2['today'] - df2['Date_of_birth']).dt.days / 365.25,2)"
   ]
  },
  {
   "cell_type": "markdown",
   "metadata": {},
   "source": [
    "### Age of default"
   ]
  },
  {
   "cell_type": "code",
   "execution_count": 28,
   "metadata": {},
   "outputs": [],
   "source": [
    "df1['duedate']=pd.to_datetime(df1['duedate'])\n",
    "df2['duedate']=pd.to_datetime(df2['duedate'])"
   ]
  },
  {
   "cell_type": "code",
   "execution_count": 29,
   "metadata": {},
   "outputs": [],
   "source": [
    "df1['age_debt_months'] = df1.apply(lambda row: calculate_months_diff(row['duedate'], row['today']), axis=1)\n",
    "df2['age_debt_months'] = df2.apply(lambda row: calculate_months_diff(row['duedate'], row['today']), axis=1)"
   ]
  },
  {
   "cell_type": "markdown",
   "metadata": {},
   "source": [
    "<font color='blue'> <font size=\"5\">**Initial Analysis**</font></font> \n",
    "\n",
    "\n",
    "Learning about the Portfolio"
   ]
  },
  {
   "cell_type": "markdown",
   "metadata": {},
   "source": [
    "### Gender Analysis"
   ]
  },
  {
   "cell_type": "code",
   "execution_count": 30,
   "metadata": {},
   "outputs": [],
   "source": [
    "df1['Gender'].replace('MaleX','Male',inplace=True)"
   ]
  },
  {
   "cell_type": "code",
   "execution_count": 31,
   "metadata": {},
   "outputs": [
    {
     "data": {
      "image/png": "[encoded data removed]",
      "text/plain": [
       "<Figure size 576x432 with 1 Axes>"
      ]
     },
     "metadata": {},
     "output_type": "display_data"
    }
   ],
   "source": [
    "gender_counts = df1['Gender'].value_counts()\n",
    "gender_percentages = (gender_counts / gender_counts.sum()) * 100\n",
    "\n",
    "# Plotting the pie chart\n",
    "plt.figure(figsize=(8, 6))\n",
    "plt.pie(gender_percentages, labels=gender_percentages.index, autopct='%1.1f%%', colors=['blue', 'pink'])\n",
    "plt.title('Percentage Distribution of Gender')\n",
    "plt.suptitle('Portfolio 1', y=0.95)   \n",
    "plt.show()"
   ]
  },
  {
   "cell_type": "code",
   "execution_count": 32,
   "metadata": {},
   "outputs": [
    {
     "data": {
      "image/png": "[encoded data removed]",
      "text/plain": [
       "<Figure size 576x432 with 1 Axes>"
      ]
     },
     "metadata": {},
     "output_type": "display_data"
    }
   ],
   "source": [
    "gender_counts = df2['Gender'].value_counts()\n",
    "gender_percentages = (gender_counts / gender_counts.sum()) * 100\n",
    "\n",
    "# Plotting the pie chart\n",
    "plt.figure(figsize=(8, 6))\n",
    "plt.pie(gender_percentages, labels=gender_percentages.index, autopct='%1.1f%%', colors=['blue', 'pink'])\n",
    "plt.title('Percentage Distribution of Gender')\n",
    "plt.suptitle('Portfolio 2', y=0.95)  \n",
    "plt.show()"
   ]
  },
  {
   "cell_type": "markdown",
   "metadata": {},
   "source": [
    "#### Insights: same distribution Male and Female both Portfolios"
   ]
  },
  {
   "cell_type": "markdown",
   "metadata": {},
   "source": [
    "### Age of clients"
   ]
  },
  {
   "cell_type": "code",
   "execution_count": 33,
   "metadata": {},
   "outputs": [
    {
     "data": {
      "image/png": "[encoded data removed]",
      "text/plain": [
       "<Figure size 720x432 with 1 Axes>"
      ]
     },
     "metadata": {
      "needs_background": "light"
     },
     "output_type": "display_data"
    }
   ],
   "source": [
    "plt.figure(figsize=(10, 6))\n",
    "\n",
    "# Plot histogram\n",
    "sns.histplot(df1['age_client_years'], bins=10, kde=True, color='skyblue', edgecolor='black')\n",
    "\n",
    "plt.title('Age of clients')\n",
    "plt.suptitle('Portfolio 1', y=0.95)  \n",
    "plt.xlabel('Age of clients (Years)')\n",
    "plt.ylabel('Frequency')\n",
    "plt.grid(True)\n",
    "plt.show()"
   ]
  },
  {
   "cell_type": "code",
   "execution_count": 34,
   "metadata": {},
   "outputs": [
    {
     "data": {
      "image/png": "[encoded data removed]",
      "text/plain": [
       "<Figure size 720x432 with 1 Axes>"
      ]
     },
     "metadata": {
      "needs_background": "light"
     },
     "output_type": "display_data"
    }
   ],
   "source": [
    "plt.figure(figsize=(10, 6))\n",
    "\n",
    "# Plot histogram\n",
    "sns.histplot(df2['age_client_years'], bins=10, kde=True, color='skyblue', edgecolor='black')\n",
    "\n",
    "plt.title('Age of clients')\n",
    "plt.suptitle('Portfolio 2', y=0.95)  \n",
    "plt.xlabel('Age of clients (Years)')\n",
    "plt.ylabel('Frequency')\n",
    "plt.grid(True)\n",
    "plt.show()"
   ]
  },
  {
   "cell_type": "markdown",
   "metadata": {},
   "source": [
    "#### Insights: both Portfolos have similar behaviour of ages"
   ]
  },
  {
   "cell_type": "markdown",
   "metadata": {},
   "source": [
    "### Region in Spain"
   ]
  },
  {
   "cell_type": "code",
   "execution_count": 35,
   "metadata": {},
   "outputs": [
    {
     "data": {
      "image/png": "[encoded data removed]",
      "text/plain": [
       "<Figure size 576x432 with 1 Axes>"
      ]
     },
     "metadata": {},
     "output_type": "display_data"
    }
   ],
   "source": [
    "gender_counts = df1['county'].value_counts()\n",
    "gender_percentages = (gender_counts / gender_counts.sum()) * 100\n",
    "\n",
    "# Plotting the pie chart\n",
    "plt.figure(figsize=(8, 6))\n",
    "plt.pie(gender_percentages, labels=gender_percentages.index, autopct='%1.1f%%', colors=['red', 'yellow'])\n",
    "plt.title('Region')\n",
    "plt.suptitle('Portfolio 1', y=0.95)  \n",
    "plt.show()"
   ]
  },
  {
   "cell_type": "code",
   "execution_count": 36,
   "metadata": {},
   "outputs": [
    {
     "data": {
      "image/png": "[encoded data removed]",
      "text/plain": [
       "<Figure size 576x432 with 1 Axes>"
      ]
     },
     "metadata": {},
     "output_type": "display_data"
    }
   ],
   "source": [
    "gender_counts = df2['county'].value_counts()\n",
    "gender_percentages = (gender_counts / gender_counts.sum()) * 100\n",
    "\n",
    "# Plotting the pie chart\n",
    "plt.figure(figsize=(8, 6))\n",
    "plt.pie(gender_percentages, labels=gender_percentages.index, autopct='%1.1f%%', colors=['red', 'yellow'])\n",
    "plt.title('Region')\n",
    "plt.suptitle('Portfolio 2', y=0.95)  \n",
    "plt.show()"
   ]
  },
  {
   "cell_type": "markdown",
   "metadata": {},
   "source": [
    "### Insights: There's a slight difference in the Portfolios. \n",
    "The weight of Barcelona  in Portfolio 1 is 12% and in Portfolio 2 is 17%\n",
    "In Portfolio 1, Las Palmas weights 5%. In Portfolio 2 it's 3%\n",
    "\n",
    "***However, with the data presented, I have no enough information to recommend a Portfolio based on clients' Region***"
   ]
  },
  {
   "cell_type": "markdown",
   "metadata": {},
   "source": [
    "<font color='blue'> <font size=\"5\">**Further analysis**</font></font> "
   ]
  },
  {
   "cell_type": "markdown",
   "metadata": {},
   "source": [
    "### Quality of clients\n",
    "\n",
    "Based on field ind_good_client"
   ]
  },
  {
   "cell_type": "code",
   "execution_count": 38,
   "metadata": {},
   "outputs": [
    {
     "data": {
      "image/png": "[encoded data removed]",
      "text/plain": [
       "<Figure size 576x432 with 1 Axes>"
      ]
     },
     "metadata": {},
     "output_type": "display_data"
    }
   ],
   "source": [
    "gender_counts = df1['ind_good_client'].value_counts()\n",
    "gender_percentages = (gender_counts / gender_counts.sum()) * 100\n",
    "\n",
    "# Plotting the pie chart\n",
    "plt.figure(figsize=(8, 6))\n",
    "plt.pie(gender_percentages, labels=gender_percentages.index, autopct='%1.1f%%', colors=['green', 'orange'])\n",
    "plt.title('Indication Good client: paid part of the debt in the past')\n",
    "plt.suptitle('Portfolio 1', y=0.95)  \n",
    "plt.show()"
   ]
  },
  {
   "cell_type": "code",
   "execution_count": 39,
   "metadata": {},
   "outputs": [
    {
     "data": {
      "image/png": "[encoded data removed]",
      "text/plain": [
       "<Figure size 576x432 with 1 Axes>"
      ]
     },
     "metadata": {},
     "output_type": "display_data"
    }
   ],
   "source": [
    "gender_counts = df2['ind_good_client'].value_counts()\n",
    "gender_percentages = (gender_counts / gender_counts.sum()) * 100\n",
    "\n",
    "# Plotting the pie chart\n",
    "plt.figure(figsize=(8, 6))\n",
    "plt.pie(gender_percentages, labels=gender_percentages.index, autopct='%1.1f%%', colors=['orange', 'green'])\n",
    "plt.title('Indication Good client: paid part of the debt in the past')\n",
    "plt.suptitle('Portfolio 2', y=0.95)  \n",
    "plt.show()"
   ]
  },
  {
   "cell_type": "markdown",
   "metadata": {},
   "source": [
    "#### Insight: Portfolio 1 has clients with more willingness to pay the debt in comparison to Portfolio 2"
   ]
  },
  {
   "cell_type": "markdown",
   "metadata": {},
   "source": [
    "### Size of the Current Balance"
   ]
  },
  {
   "cell_type": "code",
   "execution_count": 40,
   "metadata": {},
   "outputs": [
    {
     "data": {
      "text/plain": [
       "252666.2"
      ]
     },
     "execution_count": 40,
     "metadata": {},
     "output_type": "execute_result"
    }
   ],
   "source": [
    "df1['new_balance'].sum()"
   ]
  },
  {
   "cell_type": "code",
   "execution_count": 41,
   "metadata": {},
   "outputs": [
    {
     "data": {
      "text/plain": [
       "250136.58"
      ]
     },
     "execution_count": 41,
     "metadata": {},
     "output_type": "execute_result"
    }
   ],
   "source": [
    "df2['new_balance'].sum()"
   ]
  },
  {
   "cell_type": "markdown",
   "metadata": {},
   "source": [
    "####  Average Balance per Client"
   ]
  },
  {
   "cell_type": "code",
   "execution_count": 42,
   "metadata": {},
   "outputs": [
    {
     "data": {
      "text/plain": [
       "1010.6648"
      ]
     },
     "execution_count": 42,
     "metadata": {},
     "output_type": "execute_result"
    }
   ],
   "source": [
    "df1['new_balance'].sum()/len(df1)"
   ]
  },
  {
   "cell_type": "code",
   "execution_count": 43,
   "metadata": {},
   "outputs": [
    {
     "data": {
      "text/plain": [
       "833.7886"
      ]
     },
     "execution_count": 43,
     "metadata": {},
     "output_type": "execute_result"
    }
   ],
   "source": [
    "df2['new_balance'].sum()/len(df2)"
   ]
  },
  {
   "cell_type": "markdown",
   "metadata": {},
   "source": [
    "#### Insight: Average Balance  per client is higher in Portfolio 1 than Portfolio 2"
   ]
  },
  {
   "cell_type": "code",
   "execution_count": null,
   "metadata": {},
   "outputs": [],
   "source": []
  },
  {
   "cell_type": "markdown",
   "metadata": {},
   "source": [
    "#### Assumption: the higher the debt, the higher the willingness to pay it\n",
    "\n",
    "This assumption will be checked based on the data before the default. Comparing about of good clients with high original debt (above median)\n",
    "and low oriignal debt (below average)"
   ]
  },
  {
   "cell_type": "code",
   "execution_count": 44,
   "metadata": {},
   "outputs": [],
   "source": [
    "df1['ind_high_original_sum']=np.where(df1.original_sum>df1['original_sum'].median(),1,0)"
   ]
  },
  {
   "cell_type": "code",
   "execution_count": 45,
   "metadata": {},
   "outputs": [],
   "source": [
    "df2['ind_high_original_sum']=np.where(df2.original_sum>df2['original_sum'].median(),1,0)"
   ]
  },
  {
   "cell_type": "code",
   "execution_count": 46,
   "metadata": {},
   "outputs": [
    {
     "data": {
      "image/png": "[encoded data removed]",
      "text/plain": [
       "<Figure size 720x432 with 1 Axes>"
      ]
     },
     "metadata": {
      "needs_background": "light"
     },
     "output_type": "display_data"
    }
   ],
   "source": [
    "plt.figure(figsize=(10, 6))\n",
    "\n",
    "sns.boxplot(x=df1['ind_high_original_sum'], y=df1['total_paid'], data=df1, palette=\"Set2\")\n",
    "\n",
    "plt.title('Sales Distribution by Category')\n",
    "plt.xlabel('Indication of high original debt')\n",
    "plt.suptitle('Portfolio 1', y=0.95)  \n",
    "plt.ylabel(' USD paid by borrowers')\n",
    "plt.grid(True)\n",
    "plt.show()"
   ]
  },
  {
   "cell_type": "code",
   "execution_count": 47,
   "metadata": {},
   "outputs": [
    {
     "data": {
      "image/png": "[encoded data removed]",
      "text/plain": [
       "<Figure size 720x432 with 1 Axes>"
      ]
     },
     "metadata": {
      "needs_background": "light"
     },
     "output_type": "display_data"
    }
   ],
   "source": [
    "plt.figure(figsize=(10, 6))\n",
    "\n",
    "sns.boxplot(x=df2['ind_high_original_sum'], y=df2['total_paid'], data=df2, palette=\"Set2\")\n",
    "\n",
    "plt.title('Sales Distribution by Category')\n",
    "plt.xlabel('Indication of high original debt')\n",
    "plt.suptitle('Portfolio 2', y=0.95)  \n",
    "plt.ylabel(' USD paid by borrowers')\n",
    "\n",
    "plt.grid(True)\n",
    "\n",
    "plt.show()"
   ]
  },
  {
   "cell_type": "code",
   "execution_count": 65,
   "metadata": {},
   "outputs": [
    {
     "data": {
      "text/plain": [
       "ind_high_original_sum\n",
       "0     0.000\n",
       "1    52.845\n",
       "Name: total_paid, dtype: float64"
      ]
     },
     "execution_count": 65,
     "metadata": {},
     "output_type": "execute_result"
    }
   ],
   "source": [
    "df1.groupby('ind_high_original_sum')['total_paid'].median()"
   ]
  },
  {
   "cell_type": "code",
   "execution_count": 67,
   "metadata": {},
   "outputs": [
    {
     "data": {
      "text/plain": [
       "ind_high_original_sum\n",
       "0     54.6450\n",
       "1    240.5525\n",
       "Name: total_paid, dtype: float64"
      ]
     },
     "execution_count": 67,
     "metadata": {},
     "output_type": "execute_result"
    }
   ],
   "source": [
    "df1.groupby('ind_high_original_sum')['total_paid'].quantile(0.75)"
   ]
  },
  {
   "cell_type": "code",
   "execution_count": 66,
   "metadata": {},
   "outputs": [
    {
     "data": {
      "text/plain": [
       "ind_high_original_sum\n",
       "0     0.0\n",
       "1    44.3\n",
       "Name: total_paid, dtype: float64"
      ]
     },
     "execution_count": 66,
     "metadata": {},
     "output_type": "execute_result"
    }
   ],
   "source": [
    "df2.groupby('ind_high_original_sum')['total_paid'].median()"
   ]
  },
  {
   "cell_type": "code",
   "execution_count": 68,
   "metadata": {},
   "outputs": [
    {
     "data": {
      "text/plain": [
       "ind_high_original_sum\n",
       "0     52.685\n",
       "1    328.550\n",
       "Name: total_paid, dtype: float64"
      ]
     },
     "execution_count": 68,
     "metadata": {},
     "output_type": "execute_result"
    }
   ],
   "source": [
    "df2.groupby('ind_high_original_sum')['total_paid'].quantile(0.75)"
   ]
  },
  {
   "cell_type": "markdown",
   "metadata": {},
   "source": [
    "### Insight: In both Portfolios (before default). The higher the debt, the higher the amount recovered\n",
    "\n",
    "In both Portfolios, the boxplot of high_debts are above than boxplot of low_debts.\n",
    "\n",
    "The difference can be seen in the graphs above and highlighted the values of median and percentile 75%\n",
    "\n",
    "Therefore, clients aims to pay higher debt in comparison to small debts"
   ]
  },
  {
   "cell_type": "markdown",
   "metadata": {},
   "source": [
    "### Tenure of the default"
   ]
  },
  {
   "cell_type": "code",
   "execution_count": 48,
   "metadata": {},
   "outputs": [
    {
     "data": {
      "image/png": "[encoded data removed]",
      "text/plain": [
       "<Figure size 720x432 with 1 Axes>"
      ]
     },
     "metadata": {
      "needs_background": "light"
     },
     "output_type": "display_data"
    }
   ],
   "source": [
    "# Set the plot size\n",
    "plt.figure(figsize=(10, 6))\n",
    "\n",
    "# Create the boxplot with a custom color palette\n",
    "sns.histplot(x=df1['age_debt_months'], bins=3)\n",
    "\n",
    "\n",
    "# Add title and axis labels\n",
    "plt.title('Tenure of the default date up to July 1st, 2024')\n",
    "plt.xlabel('months')\n",
    "plt.suptitle('Portfolio 1', y=0.95)  \n",
    "plt.ylabel(' amount')\n",
    "\n",
    "# Add gridlines\n",
    "plt.grid(True)\n",
    "\n",
    "max_age = df1['age_debt_months'].max()\n",
    "plt.xticks(range(5, max_age + 1))\n",
    "\n",
    "# Display the plot\n",
    "plt.show()"
   ]
  },
  {
   "cell_type": "code",
   "execution_count": 49,
   "metadata": {},
   "outputs": [
    {
     "data": {
      "image/png": "[encoded data removed]",
      "text/plain": [
       "<Figure size 720x432 with 1 Axes>"
      ]
     },
     "metadata": {
      "needs_background": "light"
     },
     "output_type": "display_data"
    }
   ],
   "source": [
    "# Set the plot size\n",
    "plt.figure(figsize=(10, 6))\n",
    "\n",
    "# Create the boxplot with a custom color palette\n",
    "sns.histplot(x=df2['age_debt_months'], bins=3)\n",
    "\n",
    "\n",
    "# Add title and axis labels\n",
    "plt.title('Tenure of the default date up to July 1st, 2024')\n",
    "plt.xlabel('months')\n",
    "plt.suptitle('Portfolio 1', y=0.95)  \n",
    "plt.ylabel(' amount')\n",
    "\n",
    "# Add gridlines\n",
    "plt.grid(True)\n",
    "\n",
    "max_age = df2['age_debt_months'].max()\n",
    "plt.xticks(range(10, max_age + 1))\n",
    "\n",
    "# Display the plot\n",
    "plt.show()"
   ]
  },
  {
   "cell_type": "markdown",
   "metadata": {},
   "source": [
    "### Insights: Portfolio 1 the default is \"newer\". \n",
    "\n",
    "Assuming, clients tend to prioritize new debts in comparison to old debts. Most of debts in Portfolio 1 have age of 5 months vs 10 months in Portfolio 2\n"
   ]
  },
  {
   "cell_type": "markdown",
   "metadata": {},
   "source": [
    "### Interest Rate"
   ]
  },
  {
   "cell_type": "code",
   "execution_count": 50,
   "metadata": {},
   "outputs": [
    {
     "data": {
      "image/png": "[encoded data removed]",
      "text/plain": [
       "<Figure size 720x432 with 1 Axes>"
      ]
     },
     "metadata": {
      "needs_background": "light"
     },
     "output_type": "display_data"
    }
   ],
   "source": [
    "# Set the plot size\n",
    "plt.figure(figsize=(10, 6))\n",
    "\n",
    "# Create the boxplot with a custom color palette\n",
    "sns.histplot(x=df1['apr'], bins=10,color='gray')\n",
    "\n",
    "\n",
    "# Add title and axis labels\n",
    "plt.title('Annual percentage rate')\n",
    "plt.xlabel('%')\n",
    "plt.suptitle('Portfolio 1', y=0.95)  \n",
    "plt.ylabel(' amount')\n",
    "\n",
    "# Add gridlines\n",
    "plt.grid(True)\n",
    "\n",
    "\n",
    "# Display the plot\n",
    "plt.show()"
   ]
  },
  {
   "cell_type": "code",
   "execution_count": 51,
   "metadata": {},
   "outputs": [
    {
     "data": {
      "image/png": "[encoded data removed]",
      "text/plain": [
       "<Figure size 720x432 with 1 Axes>"
      ]
     },
     "metadata": {
      "needs_background": "light"
     },
     "output_type": "display_data"
    }
   ],
   "source": [
    "# Set the plot size\n",
    "plt.figure(figsize=(10, 6))\n",
    "\n",
    "# Create the boxplot with a custom color palette\n",
    "sns.histplot(x=df2['apr'], bins=10,color='gray')\n",
    "\n",
    "\n",
    "# Add title and axis labels\n",
    "plt.title('Annual percentage rate')\n",
    "plt.xlabel('%')\n",
    "plt.suptitle('Portfolio 2', y=0.95)  \n",
    "plt.ylabel(' amount')\n",
    "\n",
    "# Add gridlines\n",
    "plt.grid(True)\n",
    "\n",
    "\n",
    "# Display the plot\n",
    "plt.show()"
   ]
  },
  {
   "cell_type": "code",
   "execution_count": 52,
   "metadata": {},
   "outputs": [
    {
     "data": {
      "text/plain": [
       "count    250.000000\n",
       "mean       2.374137\n",
       "std        0.290747\n",
       "min        0.850800\n",
       "25%        2.040000\n",
       "50%        2.400000\n",
       "75%        2.640000\n",
       "max        3.000000\n",
       "Name: apr, dtype: float64"
      ]
     },
     "execution_count": 52,
     "metadata": {},
     "output_type": "execute_result"
    }
   ],
   "source": [
    "df1['apr'].describe()"
   ]
  },
  {
   "cell_type": "code",
   "execution_count": 53,
   "metadata": {},
   "outputs": [
    {
     "data": {
      "text/plain": [
       "count    300.000000\n",
       "mean       2.633486\n",
       "std        0.200918\n",
       "min        0.489600\n",
       "25%        2.640000\n",
       "50%        2.640000\n",
       "75%        2.640000\n",
       "max        3.000000\n",
       "Name: apr, dtype: float64"
      ]
     },
     "execution_count": 53,
     "metadata": {},
     "output_type": "execute_result"
    }
   ],
   "source": [
    "df2['apr'].describe()"
   ]
  },
  {
   "cell_type": "markdown",
   "metadata": {},
   "source": [
    "#### Insights:\n",
    "\n",
    "Although Portfolio 1 has lower interest rates (median of 2.4% vs 2.6% in Poetfolio 2), \n",
    "considering in yearly basis, this difference is not significant. "
   ]
  },
  {
   "cell_type": "code",
   "execution_count": null,
   "metadata": {},
   "outputs": [],
   "source": []
  },
  {
   "cell_type": "markdown",
   "metadata": {},
   "source": [
    "<font color='blue'> <font size=\"6\">**Recommendation**</font></font> \n",
    "\n",
    "Assuming both Porfolios have same price, the recommendation is to buy **Portfolio 1** because the reasons below:\n",
    "\n",
    "   \n",
    "    - Better quality of the clients (58% in Portfolio 1 are good clients vs 43% in Portfolio 2).\n",
    "    - Higher average of balance per client ( USD 1,010 in Portfolio 1 and USD 833 in Portfolio 2). According to analysis before the default: the higher the debt per client, the higher the probability to pay part of the debt.\n",
    "    - the debts in default are newer (5 months vs 10 months).\n",
    "\n"
   ]
  },
  {
   "cell_type": "code",
   "execution_count": null,
   "metadata": {},
   "outputs": [],
   "source": []
  }
 ],
 "metadata": {
  "kernelspec": {
   "display_name": "Python 3 (ipykernel)",
   "language": "python",
   "name": "python3"
  },
  "language_info": {
   "codemirror_mode": {
    "name": "ipython",
    "version": 3
   },
   "file_extension": ".py",
   "mimetype": "text/x-python",
   "name": "python",
   "nbconvert_exporter": "python",
   "pygments_lexer": "ipython3",
   "version": "3.12.4"
  }
 },
 "nbformat": 4,
 "nbformat_minor": 4
}
